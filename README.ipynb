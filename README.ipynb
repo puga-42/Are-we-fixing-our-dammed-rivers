{
 "cells": [
  {
   "cell_type": "markdown",
   "metadata": {},
   "source": [
    "# Can We Fix Dammed Rivers?"
   ]
  },
  {
   "cell_type": "code",
   "execution_count": null,
   "metadata": {},
   "outputs": [],
   "source": []
  },
  {
   "cell_type": "markdown",
   "metadata": {},
   "source": [
    "# Table of Contents"
   ]
  },
  {
   "cell_type": "code",
   "execution_count": null,
   "metadata": {},
   "outputs": [],
   "source": []
  },
  {
   "cell_type": "markdown",
   "metadata": {},
   "source": [
    "# Backgroud & Motivation"
   ]
  },
  {
   "cell_type": "markdown",
   "metadata": {},
   "source": [
    "-Dams built in California starting in ?year\n",
    "-How many dams now? What percentage of \n",
    "\n",
    "-Water is polluted from agriculture, farmland\n",
    "\n",
    "-EPA has set up 303(d) TMDLs (Total Maximum Daily Loads) for impaired water bodies. States have to come up with amounts for TMDLs listed in their rivers and submit to EPA. TMDL must allow for waterbody to meet water quality standards for particular pollutants\n",
    "\n",
    "-This approach could be successful for point sources, but dams have changed the chemistry and makeup of our lakes and rivers that monitoring point sources likely won't solve the problem. \n",
    "\n",
    "-I have set out to compare the pollutants requiring TMDLs for dammed and undammed impaired rivers. I will look at the most prominent pollutants in both dammed and undammed rivers and categorize them into 'TMDL Treatable' vs. 'Environmentally Caused'. \n",
    "\n",
    "# My hypothesis:\n",
    "\n",
    "-Dammed rivers are more likely to suffer from environmentally caused pollutants than undammed rivers.\n",
    "-Impaired dammed rivers are more likely only to be impaired by environmental sources.\n",
    "\n",
    "I will test whether dammed rivers are more likely to suffer from Environmentally Caused pollutants than \n",
    "\n",
    "\n",
    "Impaired waters and the California 303d list.\n",
    "\n",
    "\n",
    "\n",
    "Section 303(d) of the Clean Water Act requires the identification of water bodies that do not meet, or are not expected to meet, water quality standards (i.e., impaired water bodies). The affected water body, and associated pollutant or stressor, is then prioritized in the 303(d) List. The Clean Water Act further requires the development of a Total Maximum Daily Load (TMDL) for each listing. In 2008, California began integrating the 303(d) List of Impaired Waters and the 305(b) Water Quality Assessment Report into a single report (Integrated Report). This Integrated Report will satisfy the requirements of both CWA Sections 303(d) and 305(b)."
   ]
  },
  {
   "cell_type": "code",
   "execution_count": null,
   "metadata": {},
   "outputs": [],
   "source": []
  },
  {
   "cell_type": "markdown",
   "metadata": {},
   "source": [
    "# Data"
   ]
  },
  {
   "cell_type": "markdown",
   "metadata": {},
   "source": [
    "California dam data: U.S. Army Corps of Engineers\n",
    "The NID consists of dams meeting at least one of the following criteria;\n",
    "- High hazard potential classification - loss of human life is likely if the dam fails,\n",
    "- Significant hazard potential classification - no probable loss of human life but can cause economic loss, environmental damage, disruption of lifeline facilities, or impact other concerns,\n",
    "- Equal or exceed 25 feet in height and exceed 15 acre-feet in storage,\n",
    "- Equal or exceed 50 acre-feet storage and exceed 6 feet in height.\n",
    "\n",
    "The California State Water Resources Control Board keeps records of 303(d) impaired water bodies in California. In this analysis I only used waterbodies classified as rivers or streams, as that was the only way relate dams with impaired rivers. For a more in depth analysis I would use lat,long locations so I could include reservoirs, lakes, and other waterbodies in my report."
   ]
  },
  {
   "cell_type": "markdown",
   "metadata": {},
   "source": [
    "# Description of Raw Data"
   ]
  },
  {
   "cell_type": "code",
   "execution_count": null,
   "metadata": {},
   "outputs": [],
   "source": []
  },
  {
   "cell_type": "code",
   "execution_count": null,
   "metadata": {},
   "outputs": [],
   "source": []
  },
  {
   "cell_type": "markdown",
   "metadata": {},
   "source": [
    "# Visualization\n",
    "gis map of:\n",
    "- CA dams\n",
    "- CA rivers\n",
    "- CA regions (1-9)\n"
   ]
  },
  {
   "cell_type": "markdown",
   "metadata": {},
   "source": [
    "# Exploratory data analysis"
   ]
  },
  {
   "cell_type": "markdown",
   "metadata": {},
   "source": [
    "Exploratory Data Analysis\n",
    "\n",
    "0: Who needs to understand the data, anyway? \n",
    "\n",
    "1: Perfunctory - general pair-wise scatter matrix that says..what?\n",
    "\n",
    "2: Documentation of interesting relationships between the features and target. \n",
    "\n",
    "3: All previous and with thoughtful feature engineering."
   ]
  },
  {
   "cell_type": "markdown",
   "metadata": {},
   "source": [
    "## California Dams Dataset"
   ]
  },
  {
   "cell_type": "markdown",
   "metadata": {},
   "source": [
    "The California dams dataset contains 65 columns of data. I am only interested in the river the dam is built on."
   ]
  },
  {
   "cell_type": "markdown",
   "metadata": {},
   "source": [
    "## Data Types on California 303(d) List"
   ]
  },
  {
   "cell_type": "markdown",
   "metadata": {},
   "source": [
    "Bar Graph:\n",
    "    y = number of entries\n",
    "    x = water body type\n",
    "    "
   ]
  },
  {
   "cell_type": "markdown",
   "metadata": {},
   "source": [
    "There are three columns that are important to me: 'WATER BODY NAME', 'WATER TYPE', and 'POLLUTANT'. \n",
    "\n",
    "Another interesting feature of this dataset is that rivers will appear multiple times under different names. I have chosen to keep these as indipendent entities as they refer to different stretches and are subject to different pollutant sources."
   ]
  },
  {
   "cell_type": "code",
   "execution_count": null,
   "metadata": {},
   "outputs": [],
   "source": []
  },
  {
   "cell_type": "code",
   "execution_count": null,
   "metadata": {},
   "outputs": [],
   "source": []
  },
  {
   "cell_type": "markdown",
   "metadata": {},
   "source": [
    "we are definitely missing out on rivers because rivers combine and merge and we only have dammed data for the source rivers. Because of this we will analyze the average number of pollutants as well as the frequency of pollutants."
   ]
  },
  {
   "cell_type": "code",
   "execution_count": null,
   "metadata": {},
   "outputs": [],
   "source": []
  },
  {
   "cell_type": "code",
   "execution_count": null,
   "metadata": {},
   "outputs": [],
   "source": []
  },
  {
   "cell_type": "markdown",
   "metadata": {},
   "source": [
    "# Analysis"
   ]
  },
  {
   "cell_type": "markdown",
   "metadata": {},
   "source": [
    "Analysis (e.g cleaning pipeline, database creation, statistical tests)\n",
    "1: Approach invalid/unsuited to problem.\n",
    "2: Brief description focused on results without any explanation of approach/method.\n",
    "3: Clearly explained process that my be slightly incomplete or with minor errors.\n",
    "4: Clearly explained with no/few errors.\n",
    "5: Impressive effort."
   ]
  },
  {
   "cell_type": "markdown",
   "metadata": {},
   "source": [
    "I am trying to discover is there is a correlation between the number/types of pollutants that require TMDLs and whether or not that river is dammed.\n",
    "\n",
    "\n",
    "Compiled into one dataframe with columns:\n",
    "- 'River' (The river that is impaired)\n",
    "- 'All Pollutants' (A list of all pollutants in the river)\n",
    "- 'Dammed' ('Y' if the river is dammed, 'N' if not)\n",
    "\n"
   ]
  },
  {
   "cell_type": "markdown",
   "metadata": {},
   "source": [
    "# Testing the Data\n",
    "\n"
   ]
  },
  {
   "cell_type": "markdown",
   "metadata": {},
   "source": [
    "Plot bar graph of final dataframe:\n",
    "- number of undammed rivers\n",
    "- number of dammed rivers\n",
    "\n",
    "- BAR GRAPH IN dammed_rivers.ipynb"
   ]
  },
  {
   "cell_type": "markdown",
   "metadata": {},
   "source": [
    "## Do Dammed Rivers Have a Higher Number of Average Pollutants? Adjust bootstrap for sample size!!"
   ]
  },
  {
   "cell_type": "markdown",
   "metadata": {},
   "source": [
    "- Include both 'Num Pollutants' histograms\n",
    "\n",
    "- Bootstrap distribution of means\n",
    "\n",
    "- A/B Test\n",
    "\n",
    "- Histograms and Bootstrap distribution of means in dammed_rivers.ipynb"
   ]
  },
  {
   "cell_type": "markdown",
   "metadata": {},
   "source": [
    "## Top 15 Most Common Pollutants in Dammed and Undammed Rivers\n",
    "\n",
    "- BAR GRAPHS IN dammed_rivers.ipynb\n",
    "- I should plot them side by side\n",
    "- Include stratification diagram"
   ]
  },
  {
   "cell_type": "markdown",
   "metadata": {},
   "source": [
    "Looking at this bar chart, something interesting jumps out at me. Mercury is the second most common pollutant for dammed rivers. Mercury accounts for 5% of all pollutants in dammed rivers, while it accounts for only 1% in undammed rivers. A large portion of mercury impairment is the result of mine tailings leeching into reservoirs and becoming trapped in sediment. It then is deposited downstream when the reservoir turns over. This cannot be solved by implementing a TMDL, and it's possible that dammed reservoirs suffer from more pollutants that cannot be solved this way. \n",
    "\n",
    "\n",
    "In general, impairements via pesticides, nitrates, agricultural runnoff, human byproducts are all feasibly solved by preventing these pollutants flowing into our water.\n",
    "\n",
    "Impairments like pH, temperature, mercury, and some other metals are necessarily solvable by implementing a TMDL. \n",
    "\n",
    "Let's take the top 15 pollutants for both dammed and undammed rivers and designate whether or not they could feasibly be solved by implementation of TMDLs."
   ]
  },
  {
   "cell_type": "markdown",
   "metadata": {},
   "source": [
    "# Will Dammed Rivers Be Improved with the Implementation of TMDLs?\n",
    "\n",
    "TMDLs are determined in order to help water bodies meet water quality standards. This is clear for some pollutants. If a water body is impaired by 'Trash', then we have to stop dumping trash in or near that body. Some changes are not so easy to fix though. Impairments like mercury, toxicity, sediment, pH, turbidy, cyanobacteria, and total dissolved solids can all be cause by changes in water chemistry from being downstream from a reservoir. TMDLs will not fix these impairments.\n",
    "\n",
    "\n",
    "To address whether or not the river can be fixed, I have taken the top 15 pollutants in both dammed and undammed rivers and dsignated them as, 'TMDL Treatable', or 'Environmental'\n"
   ]
  },
  {
   "cell_type": "markdown",
   "metadata": {},
   "source": [
    "-Make table out of 'he' dict in dammed_rivers.ipynb"
   ]
  },
  {
   "cell_type": "markdown",
   "metadata": {},
   "source": [
    "## Now run A/B test comparing %treatable for dammed and undammed\n",
    "\n",
    "## Actually jk they're not independent. Instead let's just see what percentage of the top 15 pollutants won't be fixed by TMDLs."
   ]
  },
  {
   "cell_type": "markdown",
   "metadata": {},
   "source": [
    "For the top 15 pollutants by count in dammed and undammed rivers:"
   ]
  },
  {
   "cell_type": "markdown",
   "metadata": {},
   "source": [
    "-TWO PIE CHARTS in dammed_rivers.ipynb"
   ]
  },
  {
   "cell_type": "code",
   "execution_count": null,
   "metadata": {},
   "outputs": [],
   "source": []
  }
 ],
 "metadata": {
  "kernelspec": {
   "display_name": "Python 3",
   "language": "python",
   "name": "python3"
  },
  "language_info": {
   "codemirror_mode": {
    "name": "ipython",
    "version": 3
   },
   "file_extension": ".py",
   "mimetype": "text/x-python",
   "name": "python",
   "nbconvert_exporter": "python",
   "pygments_lexer": "ipython3",
   "version": "3.8.2"
  }
 },
 "nbformat": 4,
 "nbformat_minor": 4
}
