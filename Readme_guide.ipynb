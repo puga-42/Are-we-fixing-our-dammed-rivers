{
 "cells": [
  {
   "cell_type": "markdown",
   "metadata": {},
   "source": [
    "# Can We Fix Our Dammed Rivers?"
   ]
  },
  {
   "cell_type": "markdown",
   "metadata": {},
   "source": [
    "![alt text](img/title.jpg \"Title\")\n"
   ]
  },
  {
   "cell_type": "markdown",
   "metadata": {},
   "source": [
    "# Background\n",
    "------"
   ]
  },
  {
   "cell_type": "markdown",
   "metadata": {},
   "source": [
    "The first dam was built in California in 1770. Today there are over 1,500 dams in California alone and dams across the U.S. are responsible for more than 6% of the country's electric power. They are also responsible for altering the ecosystems they sit on in ways we still don't fully understand. \n",
    "\n",
    "In 1992, the EPA started implementing TMDLs to start improving water qualities. 28 years later there are still thousands of impaired water bodies across the state of California.\n",
    "\n",
    "\n",
    "## Questions\n",
    "- Do dammed rivers contain more pollutants than naural rivers?\n",
    "- Are dammed rivers helped by the implementation of TMDLs?"
   ]
  },
  {
   "cell_type": "markdown",
   "metadata": {},
   "source": [
    "# The Data\n",
    "---------"
   ]
  },
  {
   "cell_type": "markdown",
   "metadata": {},
   "source": [
    "## California Dams Data"
   ]
  },
  {
   "cell_type": "markdown",
   "metadata": {},
   "source": [
    "The California dams data comes from the U.S. Army Corps of Engineers. This dataset consists of 1576 dams in California that meet at least one of the following criteria:\n",
    "- High hazard potential classification - loss of human life is likely if the dam fails,\n",
    "- Significant hazard potential classification - no probable loss of human life but can cause economic loss, environmental damage, disruption of lifeline facilities, or impact other concerns,\n",
    "- Equal or exceed 25 feet in height and exceed 15 acre-feet in storage,\n",
    "- Equal or exceed 50 acre-feet storage and exceed 6 feet in height.\n",
    "\n",
    "![alt text](img/dammed_image.png \"Title\")\n",
    "\n",
    "\n",
    "The dataset documents over 50 different dam attributes, but I will only be using this data to cross reference dammed rivers with impaired rivers in California Impaired Waters Dataset, so the only important column here is, 'RIVER'.\n"
   ]
  },
  {
   "cell_type": "markdown",
   "metadata": {},
   "source": [
    "## California 303(d) Impaired Waters Data"
   ]
  },
  {
   "cell_type": "markdown",
   "metadata": {},
   "source": [
    "Three important terms:\n",
    "- Impaired water bodies: Water bodies that do not meet, or are not expected to meet, water quality standards. A water body is impaired if it contains a certain amount of any pollutant. \n",
    "- 303(d) List: A list of all water bodies in California that have are impaired.\n",
    "- TMDLs: Total Maximum Daily Loads. If a water body is designated to be impaired, the state must calculate the TMDL required to begin raising the water quality.\n",
    "\n",
    "In this analysis I only used waterbodies classified as rivers or streams, as that was the only way relate dams with impaired rivers. For a more in depth analysis I would use lat,long locations so I could include reservoirs, lakes, and other waterbodies in my report.\n",
    "\n",
    "![alt text](img/impaired_image.png \"Title\")\n",
    "\n",
    "\n",
    "There are three columns in this dataset that will be important to me: 'WATER BODY NAME', 'WATER TYPE', and 'POLLUTANT'. \n",
    "\n",
    "The data has 10 different classifications for 'Water Body Type'. While there are many lakes, wetlands, bays, and harbors that recieve dammed tributaries, I don't have enough data to infer every distributary from each dammed river so I will focus my analysis only on water bodies classified as, 'River and Stream'.\n",
    "\n",
    "![alt text](img/water_body_types.png \"Title\")\n"
   ]
  },
  {
   "cell_type": "markdown",
   "metadata": {},
   "source": [
    "## Repeated impaired rivers\n",
    "\n",
    "Another interesting feature of this dataset is that rivers will appear multiple times under different names. I have chosen to keep these as indipendent entities as they refer to different stretches and are subject to different pollutant sources."
   ]
  },
  {
   "cell_type": "markdown",
   "metadata": {},
   "source": [
    "# Visualization\n",
    "-----"
   ]
  },
  {
   "cell_type": "markdown",
   "metadata": {},
   "source": [
    "## What Percent of California's Impaired Rivers are Dammed?\n",
    "\n",
    "There are over 1,500 named dams in California, so there aren't many stretches of water that are entirely independent and completely natural. Ideally I would be able to assign each stretch of river in the 303(d) dataset a value as to how far downstream they are from a dam. \n",
    "\n",
    "I am not able to do this with the tools at my disposal, so I will be considering all tributaries of dammed rivers to be undammed."
   ]
  },
  {
   "cell_type": "markdown",
   "metadata": {},
   "source": [
    "<img src=\"img/counts.png\" width=\"800\" align=\"left\"/>\n"
   ]
  },
  {
   "cell_type": "markdown",
   "metadata": {},
   "source": [
    "## Do Dammed Rivers Have a Higher Number of Average Pollutants?  "
   ]
  },
  {
   "cell_type": "markdown",
   "metadata": {},
   "source": [
    "<img src=\"img/hist_counts.png\" width=\"800\" align=\"left\"/>\n",
    "\n"
   ]
  },
  {
   "cell_type": "markdown",
   "metadata": {},
   "source": [
    "It looks like both dammed and natural rivers display very similar. There are a few outliers with 15-20 pollutants, but most impaired rivers only seem to contain one to three pollutants. A bootstraped plot of the mean number of pollutants shows that both dammed and natural rivers have a mean number of pollutants of around 3.40.\n",
    "\n",
    "\n",
    "\n",
    "\n",
    "\n",
    "\n",
    "\n",
    "![alt text](img/ab_test.png \"Title\")\n",
    "\n"
   ]
  },
  {
   "cell_type": "markdown",
   "metadata": {},
   "source": [
    "## Do Dammed Rivers and Natural Rivers Suffer From Different Types of Pollutants?"
   ]
  },
  {
   "cell_type": "markdown",
   "metadata": {},
   "source": [
    "<img src=\"img/15_potent.png\" width=\"1000\" align=\"left\"/>\n"
   ]
  },
  {
   "cell_type": "markdown",
   "metadata": {},
   "source": [
    "Here we see the fifteen most common pollutants in dammed and natural rivers. Something interesting is showing up here - let's get a closer look at the top three pollutants for dammed and natural rivers:\n",
    "\n",
    "<img src=\"img/3_potent.png\" width=\"800\" align=\"left\"/>\n"
   ]
  },
  {
   "cell_type": "markdown",
   "metadata": {},
   "source": [
    "### Here is what I'm seeing:\n",
    "- The three most common pollutants for natural rivers are Fecal Coliform, E. coli, and Diazinon. All these pollutants are point sources. They can be traced back to a defined origin.\n",
    "\n",
    "- The three most common pollutants for dammed rivers, however, are Sedimentation/Siltation, Unkown Toxicity, and Mercury. These pollutants can not be easily classified as point sources, and furthermore they are all byproducts of stratified reservoirs. This indicates that the implementaion of TMDLs may not be enough to improve the water quality of these rivers. \n",
    "\n",
    "-----\n",
    "\n",
    "## How Dams Change Our Water's Chemistry\n",
    "\n",
    "![alt text](img/strat.png \"Title\")\n",
    "\n",
    "\n",
    "When a stratified reservoir 'turns over', it's sediment along with all the polltants trapped inside are brought to the top and are discharged downstream. Mercury, toxicity, and sediment are all common pollutants of this cycle. "
   ]
  },
  {
   "cell_type": "markdown",
   "metadata": {},
   "source": [
    "## Effects of TMDLs on Dammed Rivers"
   ]
  },
  {
   "cell_type": "markdown",
   "metadata": {},
   "source": [
    "How much of a river's pollutants can be\n",
    "To answer this, I took the 15 most common pollutants and grouped them by whether or not they could feasibly be solved by the implementaion of TMDLs. \n",
    "\n",
    "A few considerations I observed when classifying pollutants:\n",
    "- Pesticides and agricultural runoff can be regulated and would benefit from TMDLs\n",
    "- Pollutants that depend on the water's chemistry or environmental factors are not feasibly solved with TMDLs\n",
    "- Metals common in industrial waste can be regulated and would benefit from TMDLs\n",
    "- Metals used for mining aren't feasibly solved with TMDLs\n",
    "- Human waste products can be regulated and would benefit from TMDLs"
   ]
  },
  {
   "cell_type": "markdown",
   "metadata": {},
   "source": [
    "\n",
    "\n",
    "![alt text](img/TMDL_treatable.png \"Title\")\n"
   ]
  },
  {
   "cell_type": "markdown",
   "metadata": {},
   "source": [
    "Now that we've classified all the most common pollutants in dammed and natural rivers, we can visualize what percentage of rivers that contain these pollutants will benefit from TMDLs. \n",
    "\n",
    "\n",
    "\n",
    "<img src=\"img/tmdl_prop.png\" width=\"800\" align=\"left\"/>\n",
    "\n",
    "\n"
   ]
  },
  {
   "cell_type": "markdown",
   "metadata": {},
   "source": [
    "# Final Thoughts\n",
    "\n",
    "- Based on my analysis, there isn't enough evidence to assert that dammed rivers suffer from a greater number of pollutants than natural rivers. \n",
    "\n",
    "\n",
    "- After looking into the pollutants themselves and the origins of these pollutants, it appears that dammed rivers are more likely to be impaired by pollutants that cannot be monitored by the current regulations we have in place. The conditions of these water bodies are likely to continue to degrade unless more serious steps are taken to maintain the quality of our waters."
   ]
  },
  {
   "cell_type": "markdown",
   "metadata": {},
   "source": [
    "# Credits\n",
    "----\n",
    "\n",
    "- My data was collected from the [State of California's 303(d) impaired waters list](https://www.waterboards.ca.gov/centralvalley/water_issues/tmdl/impaired_waters_list/2008_2010_usepa_303dlist/20082010_usepa_aprvd_303dlist.pdf) and the Army Corps of Engineer's [National Inventory of Dams](https://nid.sec.usace.army.mil/ords/f?p=105:1)\n",
    "- [Title Image](https://owwbeaverlake.org/blog/2018/08/fall-lake-turnover-is-coming/) from the New York Times\n",
    "- [Stratified Reservoir Diagram](https://owwbeaverlake.org/blog/2018/08/fall-lake-turnover-is-coming/) from Ozarks Water Watch"
   ]
  }
 ],
 "metadata": {
  "kernelspec": {
   "display_name": "Python 3",
   "language": "python",
   "name": "python3"
  },
  "language_info": {
   "codemirror_mode": {
    "name": "ipython",
    "version": 3
   },
   "file_extension": ".py",
   "mimetype": "text/x-python",
   "name": "python",
   "nbconvert_exporter": "python",
   "pygments_lexer": "ipython3",
   "version": "3.8.2"
  }
 },
 "nbformat": 4,
 "nbformat_minor": 4
}
