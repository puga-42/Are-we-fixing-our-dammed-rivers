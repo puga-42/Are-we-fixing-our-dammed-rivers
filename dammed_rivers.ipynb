{
 "cells": [
  {
   "cell_type": "code",
   "execution_count": 3,
   "metadata": {},
   "outputs": [],
   "source": [
    "import pandas as pd\n",
    "import numpy as np\n",
    "import re\n",
    "import matplotlib.pyplot as plt\n",
    "from scipy import stats\n",
    "#from helpers import *\n",
    "pd.options.display.max_rows = 4000"
   ]
  },
  {
   "cell_type": "markdown",
   "metadata": {},
   "source": [
    "## Reading in Dam and 303d data"
   ]
  },
  {
   "cell_type": "code",
   "execution_count": 4,
   "metadata": {},
   "outputs": [],
   "source": [
    "impaired_waters_df = pd.read_csv('303d_impaired_waters_csv.csv')\n",
    "cal_dams = pd.read_csv('ca_dams.csv')"
   ]
  },
  {
   "cell_type": "code",
   "execution_count": null,
   "metadata": {},
   "outputs": [],
   "source": []
  },
  {
   "cell_type": "markdown",
   "metadata": {},
   "source": [
    "## Clean up dfs a little"
   ]
  },
  {
   "cell_type": "markdown",
   "metadata": {},
   "source": [
    "Cleaning up 303d data"
   ]
  },
  {
   "cell_type": "code",
   "execution_count": 5,
   "metadata": {},
   "outputs": [],
   "source": [
    "##csv was from pdf and very messy - drop all rows with NA under Region column\n",
    "impaired_waters_df=impaired_waters_df.dropna(axis=0, how='all')\n",
    "\n",
    "##I'm only interested in analyzing river and stream impact - let's filter out all waterbodies that aren't rivers\n",
    "##or streams\n",
    "impaired_rivers = impaired_waters_df.loc[impaired_waters_df['WATER BODY TYPE'] == 'River & Stream']\n",
    "#impaired_rivers.count()"
   ]
  },
  {
   "cell_type": "code",
   "execution_count": 6,
   "metadata": {},
   "outputs": [
    {
     "data": {
      "text/html": [
       "<div>\n",
       "<style scoped>\n",
       "    .dataframe tbody tr th:only-of-type {\n",
       "        vertical-align: middle;\n",
       "    }\n",
       "\n",
       "    .dataframe tbody tr th {\n",
       "        vertical-align: top;\n",
       "    }\n",
       "\n",
       "    .dataframe thead th {\n",
       "        text-align: right;\n",
       "    }\n",
       "</style>\n",
       "<table border=\"1\" class=\"dataframe\">\n",
       "  <thead>\n",
       "    <tr style=\"text-align: right;\">\n",
       "      <th></th>\n",
       "      <th>Region</th>\n",
       "      <th>Water Body Name</th>\n",
       "      <th>UNIT</th>\n",
       "      <th>POLLUTANT</th>\n",
       "      <th>POTENTIAL SOURCES</th>\n",
       "      <th>SOURCE CATEGORY</th>\n",
       "    </tr>\n",
       "  </thead>\n",
       "  <tbody>\n",
       "    <tr>\n",
       "      <th>1</th>\n",
       "      <td>1</td>\n",
       "      <td>Bodega HU, Estero Americano HA, Americano Creek</td>\n",
       "      <td>Miles</td>\n",
       "      <td>Nutrients</td>\n",
       "      <td>Dairies</td>\n",
       "      <td>Agriculture</td>\n",
       "    </tr>\n",
       "    <tr>\n",
       "      <th>2</th>\n",
       "      <td>1</td>\n",
       "      <td>Bodega HU, Estero Americano HA, Americano Creek</td>\n",
       "      <td>Miles</td>\n",
       "      <td>Nutrients</td>\n",
       "      <td>Intensive Animal Feeding Operations</td>\n",
       "      <td>Agriculture</td>\n",
       "    </tr>\n",
       "    <tr>\n",
       "      <th>3</th>\n",
       "      <td>1</td>\n",
       "      <td>Bodega HU, Estero Americano HA, Americano Creek</td>\n",
       "      <td>Miles</td>\n",
       "      <td>Nutrients</td>\n",
       "      <td>Manure Lagoons</td>\n",
       "      <td>Agriculture</td>\n",
       "    </tr>\n",
       "    <tr>\n",
       "      <th>4</th>\n",
       "      <td>1</td>\n",
       "      <td>Bodega HU, Estero Americano HA, Americano Creek</td>\n",
       "      <td>Miles</td>\n",
       "      <td>Nutrients</td>\n",
       "      <td>Pasture Grazing-Riparian</td>\n",
       "      <td>Agriculture</td>\n",
       "    </tr>\n",
       "    <tr>\n",
       "      <th>5</th>\n",
       "      <td>1</td>\n",
       "      <td>Bodega HU, Estero Americano HA, Americano Creek</td>\n",
       "      <td>Miles</td>\n",
       "      <td>Nutrients</td>\n",
       "      <td>Range Grazing-Riparian</td>\n",
       "      <td>Agriculture</td>\n",
       "    </tr>\n",
       "  </tbody>\n",
       "</table>\n",
       "</div>"
      ],
      "text/plain": [
       "  Region                                  Water Body Name   UNIT  POLLUTANT  \\\n",
       "1      1  Bodega HU, Estero Americano HA, Americano Creek  Miles  Nutrients   \n",
       "2      1  Bodega HU, Estero Americano HA, Americano Creek  Miles  Nutrients   \n",
       "3      1  Bodega HU, Estero Americano HA, Americano Creek  Miles  Nutrients   \n",
       "4      1  Bodega HU, Estero Americano HA, Americano Creek  Miles  Nutrients   \n",
       "5      1  Bodega HU, Estero Americano HA, Americano Creek  Miles  Nutrients   \n",
       "\n",
       "                     POTENTIAL SOURCES SOURCE CATEGORY  \n",
       "1                              Dairies     Agriculture  \n",
       "2  Intensive Animal Feeding Operations     Agriculture  \n",
       "3                       Manure Lagoons     Agriculture  \n",
       "4             Pasture Grazing-Riparian     Agriculture  \n",
       "5               Range Grazing-Riparian     Agriculture  "
      ]
     },
     "execution_count": 6,
     "metadata": {},
     "output_type": "execute_result"
    }
   ],
   "source": [
    "impaired_rivers = impaired_rivers[['Region', 'Water Body Name', \n",
    "                                   'UNIT', 'POLLUTANT', \n",
    "                                   'POTENTIAL SOURCES', \n",
    "                                   'SOURCE CATEGORY']]\n",
    "impaired_rivers.head()"
   ]
  },
  {
   "cell_type": "markdown",
   "metadata": {},
   "source": [
    "Cleaning up dam data - dropping unnecessary columns\n"
   ]
  },
  {
   "cell_type": "code",
   "execution_count": 7,
   "metadata": {},
   "outputs": [
    {
     "data": {
      "text/html": [
       "<div>\n",
       "<style scoped>\n",
       "    .dataframe tbody tr th:only-of-type {\n",
       "        vertical-align: middle;\n",
       "    }\n",
       "\n",
       "    .dataframe tbody tr th {\n",
       "        vertical-align: top;\n",
       "    }\n",
       "\n",
       "    .dataframe thead th {\n",
       "        text-align: right;\n",
       "    }\n",
       "</style>\n",
       "<table border=\"1\" class=\"dataframe\">\n",
       "  <thead>\n",
       "    <tr style=\"text-align: right;\">\n",
       "      <th></th>\n",
       "      <th>RECORDID</th>\n",
       "      <th>DAM_NAME</th>\n",
       "      <th>STATEID</th>\n",
       "      <th>NIDID</th>\n",
       "      <th>LONGITUDE</th>\n",
       "      <th>LATITUDE</th>\n",
       "      <th>SECTION</th>\n",
       "      <th>COUNTY</th>\n",
       "      <th>RIVER</th>\n",
       "      <th>CITY</th>\n",
       "      <th>...</th>\n",
       "      <th>CONG_NAME</th>\n",
       "      <th>PARTY</th>\n",
       "      <th>CONG_DIST</th>\n",
       "      <th>OTHERSTRUCTUREID</th>\n",
       "      <th>NUMSEPARATESTRUCTURES</th>\n",
       "      <th>PERMITTINGAUTHORITY</th>\n",
       "      <th>INSPECTIONAUTHORITY</th>\n",
       "      <th>ENFORCEMENTAUTHORITY</th>\n",
       "      <th>JURISDICTIONALDAM</th>\n",
       "      <th>EAP_LAST_REV_DATE</th>\n",
       "    </tr>\n",
       "  </thead>\n",
       "  <tbody>\n",
       "    <tr>\n",
       "      <th>0</th>\n",
       "      <td>4011</td>\n",
       "      <td>Mendocino Middle</td>\n",
       "      <td>NaN</td>\n",
       "      <td>CA00001</td>\n",
       "      <td>-123.1355</td>\n",
       "      <td>39.1310</td>\n",
       "      <td>NaN</td>\n",
       "      <td>MENDOCINO</td>\n",
       "      <td>MIDDLE CREEK</td>\n",
       "      <td>2</td>\n",
       "      <td>...</td>\n",
       "      <td>Jared Huffman (D)</td>\n",
       "      <td>D</td>\n",
       "      <td>CA02</td>\n",
       "      <td>NaN</td>\n",
       "      <td>0.0</td>\n",
       "      <td>Y</td>\n",
       "      <td>Y</td>\n",
       "      <td>Y</td>\n",
       "      <td>Y</td>\n",
       "      <td>NaN</td>\n",
       "    </tr>\n",
       "    <tr>\n",
       "      <th>1</th>\n",
       "      <td>4012</td>\n",
       "      <td>Mendocino 3 Upper</td>\n",
       "      <td>NaN</td>\n",
       "      <td>CA00002</td>\n",
       "      <td>-123.1302</td>\n",
       "      <td>39.1274</td>\n",
       "      <td>NaN</td>\n",
       "      <td>MENDOCINO</td>\n",
       "      <td>MIDDLE CREEK</td>\n",
       "      <td>2.3</td>\n",
       "      <td>...</td>\n",
       "      <td>Jared Huffman (D)</td>\n",
       "      <td>D</td>\n",
       "      <td>CA02</td>\n",
       "      <td>NaN</td>\n",
       "      <td>0.0</td>\n",
       "      <td>Y</td>\n",
       "      <td>Y</td>\n",
       "      <td>Y</td>\n",
       "      <td>Y</td>\n",
       "      <td>NaN</td>\n",
       "    </tr>\n",
       "    <tr>\n",
       "      <th>2</th>\n",
       "      <td>4013</td>\n",
       "      <td>CAMILLE, LAKE</td>\n",
       "      <td>NaN</td>\n",
       "      <td>CA00003</td>\n",
       "      <td>-122.2525</td>\n",
       "      <td>38.2775</td>\n",
       "      <td>NaN</td>\n",
       "      <td>NAPA</td>\n",
       "      <td>TR TULUCAY CR</td>\n",
       "      <td>1</td>\n",
       "      <td>...</td>\n",
       "      <td>Mike Thompson (D)</td>\n",
       "      <td>D</td>\n",
       "      <td>CA05</td>\n",
       "      <td>NaN</td>\n",
       "      <td>0.0</td>\n",
       "      <td>Y</td>\n",
       "      <td>Y</td>\n",
       "      <td>Y</td>\n",
       "      <td>Y</td>\n",
       "      <td>12-DEC-15</td>\n",
       "    </tr>\n",
       "    <tr>\n",
       "      <th>3</th>\n",
       "      <td>4014</td>\n",
       "      <td>MARIE, LAKE</td>\n",
       "      <td>NaN</td>\n",
       "      <td>CA00004</td>\n",
       "      <td>-122.2293</td>\n",
       "      <td>38.2598</td>\n",
       "      <td>NaN</td>\n",
       "      <td>NAPA</td>\n",
       "      <td>TR TULUCAY CR</td>\n",
       "      <td>2.4</td>\n",
       "      <td>...</td>\n",
       "      <td>Mike Thompson (D)</td>\n",
       "      <td>D</td>\n",
       "      <td>CA05</td>\n",
       "      <td>NaN</td>\n",
       "      <td>0.0</td>\n",
       "      <td>Y</td>\n",
       "      <td>Y</td>\n",
       "      <td>Y</td>\n",
       "      <td>Y</td>\n",
       "      <td>12-DEC-15</td>\n",
       "    </tr>\n",
       "    <tr>\n",
       "      <th>4</th>\n",
       "      <td>4015</td>\n",
       "      <td>HENDERSON</td>\n",
       "      <td>NaN</td>\n",
       "      <td>CA00005</td>\n",
       "      <td>-120.8771</td>\n",
       "      <td>38.3856</td>\n",
       "      <td>NaN</td>\n",
       "      <td>AMADOR</td>\n",
       "      <td>JACKASS CREEK</td>\n",
       "      <td>4.5</td>\n",
       "      <td>...</td>\n",
       "      <td>Tom McClintock (R)</td>\n",
       "      <td>R</td>\n",
       "      <td>CA04</td>\n",
       "      <td>NaN</td>\n",
       "      <td>0.0</td>\n",
       "      <td>Y</td>\n",
       "      <td>Y</td>\n",
       "      <td>Y</td>\n",
       "      <td>Y</td>\n",
       "      <td>NaN</td>\n",
       "    </tr>\n",
       "  </tbody>\n",
       "</table>\n",
       "<p>5 rows × 65 columns</p>\n",
       "</div>"
      ],
      "text/plain": [
       "   RECORDID           DAM_NAME  STATEID    NIDID  LONGITUDE  LATITUDE SECTION  \\\n",
       "0      4011   Mendocino Middle      NaN  CA00001  -123.1355   39.1310     NaN   \n",
       "1      4012  Mendocino 3 Upper      NaN  CA00002  -123.1302   39.1274     NaN   \n",
       "2      4013      CAMILLE, LAKE      NaN  CA00003  -122.2525   38.2775     NaN   \n",
       "3      4014        MARIE, LAKE      NaN  CA00004  -122.2293   38.2598     NaN   \n",
       "4      4015          HENDERSON      NaN  CA00005  -120.8771   38.3856     NaN   \n",
       "\n",
       "      COUNTY          RIVER CITY  ...           CONG_NAME PARTY CONG_DIST  \\\n",
       "0  MENDOCINO   MIDDLE CREEK    2  ...   Jared Huffman (D)     D      CA02   \n",
       "1  MENDOCINO   MIDDLE CREEK  2.3  ...   Jared Huffman (D)     D      CA02   \n",
       "2       NAPA  TR TULUCAY CR    1  ...   Mike Thompson (D)     D      CA05   \n",
       "3       NAPA  TR TULUCAY CR  2.4  ...   Mike Thompson (D)     D      CA05   \n",
       "4     AMADOR  JACKASS CREEK  4.5  ...  Tom McClintock (R)     R      CA04   \n",
       "\n",
       "  OTHERSTRUCTUREID NUMSEPARATESTRUCTURES PERMITTINGAUTHORITY  \\\n",
       "0              NaN                   0.0                   Y   \n",
       "1              NaN                   0.0                   Y   \n",
       "2              NaN                   0.0                   Y   \n",
       "3              NaN                   0.0                   Y   \n",
       "4              NaN                   0.0                   Y   \n",
       "\n",
       "  INSPECTIONAUTHORITY  ENFORCEMENTAUTHORITY JURISDICTIONALDAM  \\\n",
       "0                   Y                     Y                 Y   \n",
       "1                   Y                     Y                 Y   \n",
       "2                   Y                     Y                 Y   \n",
       "3                   Y                     Y                 Y   \n",
       "4                   Y                     Y                 Y   \n",
       "\n",
       "   EAP_LAST_REV_DATE  \n",
       "0                NaN  \n",
       "1                NaN  \n",
       "2          12-DEC-15  \n",
       "3          12-DEC-15  \n",
       "4                NaN  \n",
       "\n",
       "[5 rows x 65 columns]"
      ]
     },
     "execution_count": 7,
     "metadata": {},
     "output_type": "execute_result"
    }
   ],
   "source": [
    "cal_dams.head()"
   ]
  },
  {
   "cell_type": "code",
   "execution_count": 8,
   "metadata": {},
   "outputs": [],
   "source": [
    "## group dam attributes into one list\n",
    "cal_dams['ATTRIBUTES'] = cal_dams.apply(lambda x: list([x['YEAR_COMPLETED'], \n",
    "                                                        x['DAM_LENGTH'], \n",
    "                                                        x['DAM_HEIGHT'], \n",
    "                                                        x['MAX_DISCHARGE'], \n",
    "                                                        x['MAX_STORAGE'],\n",
    "                                                        x['NORMAL_STORAGE'],\n",
    "                                                        x['SURFACE_AREA'],\n",
    "                                                        x['DRAINAGE_AREA']\n",
    "                                                       ]),axis=1)\n",
    "\n",
    "# merge_columns(cal_dams, 'ATTRIBUTES', ['YEAR_COMPLETED', \n",
    "#                                        'DAM_LENGTH', \n",
    "#                                        'DAM_HEIGHT', \n",
    "#                                        'MAX_DISCHARGE', \n",
    "#                                        'MAX_STORAGE', \n",
    "#                                        'NORMAL_STORAGE', \n",
    "#                                        'SURFACE_AREA', \n",
    "#                                        'DRAINAGE_AREA']])\n"
   ]
  },
  {
   "cell_type": "code",
   "execution_count": 9,
   "metadata": {},
   "outputs": [
    {
     "data": {
      "text/html": [
       "<div>\n",
       "<style scoped>\n",
       "    .dataframe tbody tr th:only-of-type {\n",
       "        vertical-align: middle;\n",
       "    }\n",
       "\n",
       "    .dataframe tbody tr th {\n",
       "        vertical-align: top;\n",
       "    }\n",
       "\n",
       "    .dataframe thead th {\n",
       "        text-align: right;\n",
       "    }\n",
       "</style>\n",
       "<table border=\"1\" class=\"dataframe\">\n",
       "  <thead>\n",
       "    <tr style=\"text-align: right;\">\n",
       "      <th></th>\n",
       "      <th>DAM_NAME</th>\n",
       "      <th>RIVER</th>\n",
       "      <th>VOLUME</th>\n",
       "      <th>PRIVATE_DAM</th>\n",
       "      <th>ATTRIBUTES</th>\n",
       "    </tr>\n",
       "  </thead>\n",
       "  <tbody>\n",
       "    <tr>\n",
       "      <th>0</th>\n",
       "      <td>Mendocino Middle</td>\n",
       "      <td>MIDDLE CREEK</td>\n",
       "      <td>0.0</td>\n",
       "      <td>N</td>\n",
       "      <td>[1908.0, 119.0, 39.0, 0.0, 0.0, 27.0, 2.0, 3.75]</td>\n",
       "    </tr>\n",
       "    <tr>\n",
       "      <th>1</th>\n",
       "      <td>Mendocino 3 Upper</td>\n",
       "      <td>MIDDLE CREEK</td>\n",
       "      <td>0.0</td>\n",
       "      <td>N</td>\n",
       "      <td>[1915.0, 254.0, 49.0, 0.0, 0.0, 85.0, 5.0, 3.2]</td>\n",
       "    </tr>\n",
       "    <tr>\n",
       "      <th>2</th>\n",
       "      <td>CAMILLE, LAKE</td>\n",
       "      <td>TR TULUCAY CR</td>\n",
       "      <td>22000.0</td>\n",
       "      <td>N</td>\n",
       "      <td>[1880.0, 600.0, 30.0, 0.0, 0.0, 47.0, 3.0, 0.1]</td>\n",
       "    </tr>\n",
       "    <tr>\n",
       "      <th>3</th>\n",
       "      <td>MARIE, LAKE</td>\n",
       "      <td>TR TULUCAY CR</td>\n",
       "      <td>75000.0</td>\n",
       "      <td>N</td>\n",
       "      <td>[1908.0, 454.0, 60.0, 0.0, 0.0, 170.0, 8.0, 1.06]</td>\n",
       "    </tr>\n",
       "    <tr>\n",
       "      <th>4</th>\n",
       "      <td>HENDERSON</td>\n",
       "      <td>JACKASS CREEK</td>\n",
       "      <td>70000.0</td>\n",
       "      <td>N</td>\n",
       "      <td>[1923.0, 630.0, 56.0, 0.0, 0.0, 500.0, 31.0, 1.0]</td>\n",
       "    </tr>\n",
       "  </tbody>\n",
       "</table>\n",
       "</div>"
      ],
      "text/plain": [
       "            DAM_NAME          RIVER   VOLUME PRIVATE_DAM  \\\n",
       "0   Mendocino Middle   MIDDLE CREEK      0.0           N   \n",
       "1  Mendocino 3 Upper   MIDDLE CREEK      0.0           N   \n",
       "2      CAMILLE, LAKE  TR TULUCAY CR  22000.0           N   \n",
       "3        MARIE, LAKE  TR TULUCAY CR  75000.0           N   \n",
       "4          HENDERSON  JACKASS CREEK  70000.0           N   \n",
       "\n",
       "                                          ATTRIBUTES  \n",
       "0   [1908.0, 119.0, 39.0, 0.0, 0.0, 27.0, 2.0, 3.75]  \n",
       "1    [1915.0, 254.0, 49.0, 0.0, 0.0, 85.0, 5.0, 3.2]  \n",
       "2    [1880.0, 600.0, 30.0, 0.0, 0.0, 47.0, 3.0, 0.1]  \n",
       "3  [1908.0, 454.0, 60.0, 0.0, 0.0, 170.0, 8.0, 1.06]  \n",
       "4  [1923.0, 630.0, 56.0, 0.0, 0.0, 500.0, 31.0, 1.0]  "
      ]
     },
     "execution_count": 9,
     "metadata": {},
     "output_type": "execute_result"
    }
   ],
   "source": [
    "## reduce dataframe\n",
    "\n",
    "cal_dams = cal_dams[['DAM_NAME', 'RIVER', 'VOLUME', 'PRIVATE_DAM', 'ATTRIBUTES']]\n",
    "cal_dams.head()"
   ]
  },
  {
   "cell_type": "code",
   "execution_count": null,
   "metadata": {},
   "outputs": [],
   "source": []
  },
  {
   "cell_type": "code",
   "execution_count": null,
   "metadata": {},
   "outputs": [],
   "source": []
  },
  {
   "cell_type": "markdown",
   "metadata": {},
   "source": [
    "## Dealing with NANs in crucial places\n",
    "There are 90 dams that don't have data for River. We will drop these and maybe manually input data later"
   ]
  },
  {
   "cell_type": "code",
   "execution_count": 10,
   "metadata": {},
   "outputs": [
    {
     "data": {
      "text/html": [
       "<div>\n",
       "<style scoped>\n",
       "    .dataframe tbody tr th:only-of-type {\n",
       "        vertical-align: middle;\n",
       "    }\n",
       "\n",
       "    .dataframe tbody tr th {\n",
       "        vertical-align: top;\n",
       "    }\n",
       "\n",
       "    .dataframe thead th {\n",
       "        text-align: right;\n",
       "    }\n",
       "</style>\n",
       "<table border=\"1\" class=\"dataframe\">\n",
       "  <thead>\n",
       "    <tr style=\"text-align: right;\">\n",
       "      <th></th>\n",
       "      <th>DAM_NAME</th>\n",
       "      <th>RIVER</th>\n",
       "      <th>VOLUME</th>\n",
       "      <th>PRIVATE_DAM</th>\n",
       "      <th>ATTRIBUTES</th>\n",
       "    </tr>\n",
       "  </thead>\n",
       "  <tbody>\n",
       "    <tr>\n",
       "      <th>69</th>\n",
       "      <td>UPPER FRANKLIN DAM</td>\n",
       "      <td>NaN</td>\n",
       "      <td>0.0</td>\n",
       "      <td>N</td>\n",
       "      <td>[1915.0, 260.0, 40.0, 192.0, 150.0, 0.0, 0.0, ...</td>\n",
       "    </tr>\n",
       "    <tr>\n",
       "      <th>129</th>\n",
       "      <td>MORRIS S. JONES</td>\n",
       "      <td>NaN</td>\n",
       "      <td>68000.0</td>\n",
       "      <td>N</td>\n",
       "      <td>[1952.0, 1470.0, 49.0, 0.0, 0.0, 153.3, 6.3, 0.0]</td>\n",
       "    </tr>\n",
       "    <tr>\n",
       "      <th>462</th>\n",
       "      <td>JANES FLAT</td>\n",
       "      <td>NaN</td>\n",
       "      <td>9180.0</td>\n",
       "      <td>N</td>\n",
       "      <td>[1918.0, 785.0, 22.0, 780.0, 0.0, 0.0, 0.0, 0.0]</td>\n",
       "    </tr>\n",
       "    <tr>\n",
       "      <th>717</th>\n",
       "      <td>HALL MILL DAM</td>\n",
       "      <td>NaN</td>\n",
       "      <td>0.0</td>\n",
       "      <td>N</td>\n",
       "      <td>[1949.0, 220.0, 40.0, 0.0, 0.0, 0.0, 0.0, 0.0]</td>\n",
       "    </tr>\n",
       "    <tr>\n",
       "      <th>1108</th>\n",
       "      <td>TAHQUITZ</td>\n",
       "      <td>NaN</td>\n",
       "      <td>0.0</td>\n",
       "      <td>N</td>\n",
       "      <td>[nan, 0.0, 32.0, 0.0, 0.0, 0.0, 0.0, 0.0]</td>\n",
       "    </tr>\n",
       "  </tbody>\n",
       "</table>\n",
       "</div>"
      ],
      "text/plain": [
       "                DAM_NAME RIVER   VOLUME PRIVATE_DAM  \\\n",
       "69    UPPER FRANKLIN DAM   NaN      0.0           N   \n",
       "129      MORRIS S. JONES   NaN  68000.0           N   \n",
       "462           JANES FLAT   NaN   9180.0           N   \n",
       "717        HALL MILL DAM   NaN      0.0           N   \n",
       "1108            TAHQUITZ   NaN      0.0           N   \n",
       "\n",
       "                                             ATTRIBUTES  \n",
       "69    [1915.0, 260.0, 40.0, 192.0, 150.0, 0.0, 0.0, ...  \n",
       "129   [1952.0, 1470.0, 49.0, 0.0, 0.0, 153.3, 6.3, 0.0]  \n",
       "462    [1918.0, 785.0, 22.0, 780.0, 0.0, 0.0, 0.0, 0.0]  \n",
       "717      [1949.0, 220.0, 40.0, 0.0, 0.0, 0.0, 0.0, 0.0]  \n",
       "1108          [nan, 0.0, 32.0, 0.0, 0.0, 0.0, 0.0, 0.0]  "
      ]
     },
     "execution_count": 10,
     "metadata": {},
     "output_type": "execute_result"
    }
   ],
   "source": [
    "#df = df[df['EPS'].notna()]\n",
    "no_river = cal_dams[cal_dams['RIVER'].isna()]\n",
    "no_river.head()"
   ]
  },
  {
   "cell_type": "code",
   "execution_count": 11,
   "metadata": {},
   "outputs": [
    {
     "data": {
      "text/plain": [
       "DAM_NAME       1395\n",
       "RIVER          1396\n",
       "VOLUME         1394\n",
       "PRIVATE_DAM    1396\n",
       "ATTRIBUTES     1396\n",
       "dtype: int64"
      ]
     },
     "execution_count": 11,
     "metadata": {},
     "output_type": "execute_result"
    }
   ],
   "source": [
    "cal_dams['RIVER'] = cal_dams['RIVER'].str.lower()\n",
    "impaired_rivers['Water Body Name'] = impaired_rivers['Water Body Name'].str.lower()\n",
    "\n",
    "cal_dams = cal_dams[cal_dams['RIVER'].notna()]\n",
    "cal_dams = cal_dams.loc[cal_dams['RIVER'] != 'offstream']\n",
    "cal_dams = cal_dams.loc[cal_dams['RIVER'] != 'y']\n",
    "cal_dams = cal_dams.loc[cal_dams['RIVER'] != '.']\n",
    "cal_dams = cal_dams.loc[cal_dams['RIVER'] != 3]\n",
    "\n",
    "\n",
    "#impaired_rivers = impaired_waters_df.loc[impaired_waters_df['WATER BODY TYPE'] == 'River & Stream\n",
    "cal_dams.count()"
   ]
  },
  {
   "cell_type": "markdown",
   "metadata": {},
   "source": []
  },
  {
   "cell_type": "code",
   "execution_count": null,
   "metadata": {},
   "outputs": [],
   "source": []
  },
  {
   "cell_type": "code",
   "execution_count": null,
   "metadata": {},
   "outputs": [],
   "source": []
  },
  {
   "cell_type": "markdown",
   "metadata": {},
   "source": [
    "We want Strings in: Water Body Name, WATER BODY TYPE, POLLUTANT:FINAL LISTING DECISION\n",
    "Ints in: Region, WBID"
   ]
  },
  {
   "cell_type": "markdown",
   "metadata": {},
   "source": [
    "## What types of data are in our dams and impaired rivers datasets?"
   ]
  },
  {
   "cell_type": "code",
   "execution_count": 12,
   "metadata": {},
   "outputs": [
    {
     "data": {
      "text/plain": [
       "DAM_NAME        object\n",
       "RIVER           object\n",
       "VOLUME         float64\n",
       "PRIVATE_DAM     object\n",
       "ATTRIBUTES      object\n",
       "dtype: object"
      ]
     },
     "execution_count": 12,
     "metadata": {},
     "output_type": "execute_result"
    }
   ],
   "source": [
    "cal_dams.dtypes"
   ]
  },
  {
   "cell_type": "code",
   "execution_count": null,
   "metadata": {},
   "outputs": [],
   "source": []
  },
  {
   "cell_type": "code",
   "execution_count": 13,
   "metadata": {},
   "outputs": [],
   "source": [
    "def to_numeric(df, cols):\n",
    "    for col in cols:\n",
    "        df[col] = df[col].apply(lambda x: pd.to_numeric(x, errors='coerce'))"
   ]
  },
  {
   "cell_type": "code",
   "execution_count": 14,
   "metadata": {},
   "outputs": [
    {
     "data": {
      "text/html": [
       "<div>\n",
       "<style scoped>\n",
       "    .dataframe tbody tr th:only-of-type {\n",
       "        vertical-align: middle;\n",
       "    }\n",
       "\n",
       "    .dataframe tbody tr th {\n",
       "        vertical-align: top;\n",
       "    }\n",
       "\n",
       "    .dataframe thead th {\n",
       "        text-align: right;\n",
       "    }\n",
       "</style>\n",
       "<table border=\"1\" class=\"dataframe\">\n",
       "  <thead>\n",
       "    <tr style=\"text-align: right;\">\n",
       "      <th></th>\n",
       "      <th>Region</th>\n",
       "      <th>Water Body Name</th>\n",
       "      <th>UNIT</th>\n",
       "      <th>POLLUTANT</th>\n",
       "      <th>POTENTIAL SOURCES</th>\n",
       "      <th>SOURCE CATEGORY</th>\n",
       "    </tr>\n",
       "  </thead>\n",
       "  <tbody>\n",
       "    <tr>\n",
       "      <th>1</th>\n",
       "      <td>1</td>\n",
       "      <td>bodega hu, estero americano ha, americano creek</td>\n",
       "      <td>Miles</td>\n",
       "      <td>Nutrients</td>\n",
       "      <td>Dairies</td>\n",
       "      <td>Agriculture</td>\n",
       "    </tr>\n",
       "    <tr>\n",
       "      <th>2</th>\n",
       "      <td>1</td>\n",
       "      <td>bodega hu, estero americano ha, americano creek</td>\n",
       "      <td>Miles</td>\n",
       "      <td>Nutrients</td>\n",
       "      <td>Intensive Animal Feeding Operations</td>\n",
       "      <td>Agriculture</td>\n",
       "    </tr>\n",
       "    <tr>\n",
       "      <th>3</th>\n",
       "      <td>1</td>\n",
       "      <td>bodega hu, estero americano ha, americano creek</td>\n",
       "      <td>Miles</td>\n",
       "      <td>Nutrients</td>\n",
       "      <td>Manure Lagoons</td>\n",
       "      <td>Agriculture</td>\n",
       "    </tr>\n",
       "    <tr>\n",
       "      <th>4</th>\n",
       "      <td>1</td>\n",
       "      <td>bodega hu, estero americano ha, americano creek</td>\n",
       "      <td>Miles</td>\n",
       "      <td>Nutrients</td>\n",
       "      <td>Pasture Grazing-Riparian</td>\n",
       "      <td>Agriculture</td>\n",
       "    </tr>\n",
       "    <tr>\n",
       "      <th>5</th>\n",
       "      <td>1</td>\n",
       "      <td>bodega hu, estero americano ha, americano creek</td>\n",
       "      <td>Miles</td>\n",
       "      <td>Nutrients</td>\n",
       "      <td>Range Grazing-Riparian</td>\n",
       "      <td>Agriculture</td>\n",
       "    </tr>\n",
       "  </tbody>\n",
       "</table>\n",
       "</div>"
      ],
      "text/plain": [
       "   Region                                  Water Body Name   UNIT  POLLUTANT  \\\n",
       "1       1  bodega hu, estero americano ha, americano creek  Miles  Nutrients   \n",
       "2       1  bodega hu, estero americano ha, americano creek  Miles  Nutrients   \n",
       "3       1  bodega hu, estero americano ha, americano creek  Miles  Nutrients   \n",
       "4       1  bodega hu, estero americano ha, americano creek  Miles  Nutrients   \n",
       "5       1  bodega hu, estero americano ha, americano creek  Miles  Nutrients   \n",
       "\n",
       "                     POTENTIAL SOURCES SOURCE CATEGORY  \n",
       "1                              Dairies     Agriculture  \n",
       "2  Intensive Animal Feeding Operations     Agriculture  \n",
       "3                       Manure Lagoons     Agriculture  \n",
       "4             Pasture Grazing-Riparian     Agriculture  \n",
       "5               Range Grazing-Riparian     Agriculture  "
      ]
     },
     "execution_count": 14,
     "metadata": {},
     "output_type": "execute_result"
    }
   ],
   "source": [
    "to_numeric(impaired_rivers, ['Region'])\n",
    "impaired_rivers.head()"
   ]
  },
  {
   "cell_type": "markdown",
   "metadata": {},
   "source": [
    "## Now we'll group the like-rivers together and append all their polutant and possible sources together. "
   ]
  },
  {
   "cell_type": "code",
   "execution_count": 15,
   "metadata": {},
   "outputs": [
    {
     "data": {
      "text/html": [
       "<div>\n",
       "<style scoped>\n",
       "    .dataframe tbody tr th:only-of-type {\n",
       "        vertical-align: middle;\n",
       "    }\n",
       "\n",
       "    .dataframe tbody tr th {\n",
       "        vertical-align: top;\n",
       "    }\n",
       "\n",
       "    .dataframe thead th {\n",
       "        text-align: right;\n",
       "    }\n",
       "</style>\n",
       "<table border=\"1\" class=\"dataframe\">\n",
       "  <thead>\n",
       "    <tr style=\"text-align: right;\">\n",
       "      <th></th>\n",
       "      <th>Water Body Name</th>\n",
       "      <th>All Pollutants</th>\n",
       "      <th>Region</th>\n",
       "      <th>all_potential_sources</th>\n",
       "    </tr>\n",
       "  </thead>\n",
       "  <tbody>\n",
       "    <tr>\n",
       "      <th>1</th>\n",
       "      <td>bodega hu, estero americano ha, americano creek</td>\n",
       "      <td>Nutrients, Nutrients, Nutrients, Nutrients, Nu...</td>\n",
       "      <td>1</td>\n",
       "      <td>Dairies, Intensive Animal Feeding Operations, ...</td>\n",
       "    </tr>\n",
       "    <tr>\n",
       "      <th>15</th>\n",
       "      <td>bodega hu, estero de san antonio ha, stemple c...</td>\n",
       "      <td>Nutrients, Sediment, Sediment, Sediment, Sedim...</td>\n",
       "      <td>1</td>\n",
       "      <td>Source Unknown, Agriculture, Erosion/Siltation...</td>\n",
       "    </tr>\n",
       "    <tr>\n",
       "      <th>27</th>\n",
       "      <td>cape mendocino hu, mattole river ha, mattole r...</td>\n",
       "      <td>Sedimentation/Siltation, Sedimentation/Siltati...</td>\n",
       "      <td>1</td>\n",
       "      <td>Erosion/Siltation, Habitat Modification, Hydro...</td>\n",
       "    </tr>\n",
       "    <tr>\n",
       "      <th>55</th>\n",
       "      <td>eel river hu, lower eel river ha (includes the...</td>\n",
       "      <td>Aluminum, Oxygen, Dissolved, Sedimentation/Sil...</td>\n",
       "      <td>1</td>\n",
       "      <td>Natural Sources, Source Unknown, Erosion/Silta...</td>\n",
       "    </tr>\n",
       "    <tr>\n",
       "      <th>63</th>\n",
       "      <td>eel river hu, middle fork ha, eden valley and ...</td>\n",
       "      <td>Aluminum, Sedimentation/Siltation, Temperature...</td>\n",
       "      <td>1</td>\n",
       "      <td>Natural Sources, Erosion/Siltation, Nonpoint S...</td>\n",
       "    </tr>\n",
       "  </tbody>\n",
       "</table>\n",
       "</div>"
      ],
      "text/plain": [
       "                                      Water Body Name  \\\n",
       "1     bodega hu, estero americano ha, americano creek   \n",
       "15  bodega hu, estero de san antonio ha, stemple c...   \n",
       "27  cape mendocino hu, mattole river ha, mattole r...   \n",
       "55  eel river hu, lower eel river ha (includes the...   \n",
       "63  eel river hu, middle fork ha, eden valley and ...   \n",
       "\n",
       "                                       All Pollutants  Region  \\\n",
       "1   Nutrients, Nutrients, Nutrients, Nutrients, Nu...       1   \n",
       "15  Nutrients, Sediment, Sediment, Sediment, Sedim...       1   \n",
       "27  Sedimentation/Siltation, Sedimentation/Siltati...       1   \n",
       "55  Aluminum, Oxygen, Dissolved, Sedimentation/Sil...       1   \n",
       "63  Aluminum, Sedimentation/Siltation, Temperature...       1   \n",
       "\n",
       "                                all_potential_sources  \n",
       "1   Dairies, Intensive Animal Feeding Operations, ...  \n",
       "15  Source Unknown, Agriculture, Erosion/Siltation...  \n",
       "27  Erosion/Siltation, Habitat Modification, Hydro...  \n",
       "55  Natural Sources, Source Unknown, Erosion/Silta...  \n",
       "63  Natural Sources, Erosion/Siltation, Nonpoint S...  "
      ]
     },
     "execution_count": 15,
     "metadata": {},
     "output_type": "execute_result"
    }
   ],
   "source": [
    "impaired_rivers['all_potential_sources'] = impaired_rivers[[\n",
    "    'Water Body Name',\n",
    "    'POTENTIAL SOURCES']].groupby('Water Body Name')['POTENTIAL SOURCES'].transform(lambda x: ', '.join(x))\n",
    "\n",
    "\n",
    "# impaired_rivers['All Pollutant Categories'] = impaired_rivers[[\n",
    "#     'Water Body Name',\n",
    "#     'POLLUTANT CATEGORY']].groupby('Water Body Name')['POLLUTANT CATEGORY'].transform(lambda x: ', '.join(x))\n",
    "\n",
    "impaired_rivers['All Pollutants'] = impaired_rivers[[\n",
    "    'Water Body Name',\n",
    "    'POLLUTANT']].groupby('Water Body Name')['POLLUTANT'].transform(lambda x: ', '.join(x))\n",
    "\n",
    "#all individual rivers\n",
    "impaired = impaired_rivers[['Water Body Name', 'All Pollutants', 'Region',\n",
    "                 'all_potential_sources']].drop_duplicates()\n",
    "impaired.head()"
   ]
  },
  {
   "cell_type": "code",
   "execution_count": null,
   "metadata": {},
   "outputs": [],
   "source": []
  },
  {
   "cell_type": "markdown",
   "metadata": {},
   "source": []
  },
  {
   "cell_type": "code",
   "execution_count": null,
   "metadata": {},
   "outputs": [],
   "source": []
  },
  {
   "cell_type": "code",
   "execution_count": null,
   "metadata": {},
   "outputs": [],
   "source": []
  },
  {
   "cell_type": "code",
   "execution_count": null,
   "metadata": {},
   "outputs": [],
   "source": []
  },
  {
   "cell_type": "code",
   "execution_count": null,
   "metadata": {},
   "outputs": [],
   "source": []
  },
  {
   "cell_type": "code",
   "execution_count": 16,
   "metadata": {},
   "outputs": [
    {
     "data": {
      "text/html": [
       "<div>\n",
       "<style scoped>\n",
       "    .dataframe tbody tr th:only-of-type {\n",
       "        vertical-align: middle;\n",
       "    }\n",
       "\n",
       "    .dataframe tbody tr th {\n",
       "        vertical-align: top;\n",
       "    }\n",
       "\n",
       "    .dataframe thead th {\n",
       "        text-align: right;\n",
       "    }\n",
       "</style>\n",
       "<table border=\"1\" class=\"dataframe\">\n",
       "  <thead>\n",
       "    <tr style=\"text-align: right;\">\n",
       "      <th></th>\n",
       "      <th>Water Body Name</th>\n",
       "      <th>All Pollutants</th>\n",
       "      <th>Region</th>\n",
       "      <th>all_potential_sources</th>\n",
       "    </tr>\n",
       "  </thead>\n",
       "  <tbody>\n",
       "    <tr>\n",
       "      <th>1</th>\n",
       "      <td>bodega hu, estero americano ha, americano creek</td>\n",
       "      <td>Nutrients, Nutrients, Nutrients, Nutrients, Nu...</td>\n",
       "      <td>1</td>\n",
       "      <td>Dairies, Intensive Animal Feeding Operations, ...</td>\n",
       "    </tr>\n",
       "    <tr>\n",
       "      <th>15</th>\n",
       "      <td>bodega hu, estero de san antonio ha, stemple c...</td>\n",
       "      <td>Nutrients, Sediment, Sediment, Sediment, Sedim...</td>\n",
       "      <td>1</td>\n",
       "      <td>Source Unknown, Agriculture, Erosion/Siltation...</td>\n",
       "    </tr>\n",
       "    <tr>\n",
       "      <th>27</th>\n",
       "      <td>cape mendocino hu, mattole river ha, mattole r...</td>\n",
       "      <td>Sedimentation/Siltation, Sedimentation/Siltati...</td>\n",
       "      <td>1</td>\n",
       "      <td>Erosion/Siltation, Habitat Modification, Hydro...</td>\n",
       "    </tr>\n",
       "    <tr>\n",
       "      <th>55</th>\n",
       "      <td>eel river hu, lower eel river ha (includes the...</td>\n",
       "      <td>Aluminum, Oxygen, Dissolved, Sedimentation/Sil...</td>\n",
       "      <td>1</td>\n",
       "      <td>Natural Sources, Source Unknown, Erosion/Silta...</td>\n",
       "    </tr>\n",
       "    <tr>\n",
       "      <th>63</th>\n",
       "      <td>eel river hu, middle fork ha, eden valley and ...</td>\n",
       "      <td>Aluminum, Sedimentation/Siltation, Temperature...</td>\n",
       "      <td>1</td>\n",
       "      <td>Natural Sources, Erosion/Siltation, Nonpoint S...</td>\n",
       "    </tr>\n",
       "  </tbody>\n",
       "</table>\n",
       "</div>"
      ],
      "text/plain": [
       "                                      Water Body Name  \\\n",
       "1     bodega hu, estero americano ha, americano creek   \n",
       "15  bodega hu, estero de san antonio ha, stemple c...   \n",
       "27  cape mendocino hu, mattole river ha, mattole r...   \n",
       "55  eel river hu, lower eel river ha (includes the...   \n",
       "63  eel river hu, middle fork ha, eden valley and ...   \n",
       "\n",
       "                                       All Pollutants  Region  \\\n",
       "1   Nutrients, Nutrients, Nutrients, Nutrients, Nu...       1   \n",
       "15  Nutrients, Sediment, Sediment, Sediment, Sedim...       1   \n",
       "27  Sedimentation/Siltation, Sedimentation/Siltati...       1   \n",
       "55  Aluminum, Oxygen, Dissolved, Sedimentation/Sil...       1   \n",
       "63  Aluminum, Sedimentation/Siltation, Temperature...       1   \n",
       "\n",
       "                                all_potential_sources  \n",
       "1   Dairies, Intensive Animal Feeding Operations, ...  \n",
       "15  Source Unknown, Agriculture, Erosion/Siltation...  \n",
       "27  Erosion/Siltation, Habitat Modification, Hydro...  \n",
       "55  Natural Sources, Source Unknown, Erosion/Silta...  \n",
       "63  Natural Sources, Erosion/Siltation, Nonpoint S...  "
      ]
     },
     "execution_count": 16,
     "metadata": {},
     "output_type": "execute_result"
    }
   ],
   "source": [
    "impaired.head()"
   ]
  },
  {
   "cell_type": "code",
   "execution_count": null,
   "metadata": {},
   "outputs": [],
   "source": []
  },
  {
   "cell_type": "markdown",
   "metadata": {},
   "source": [
    "## Now we can make another dataframe with all the impaired rivers with 'dam' listed as possible source. We will combine this dataframe with our final dammed_and_impaired dataframe if there are missing values"
   ]
  },
  {
   "cell_type": "code",
   "execution_count": 17,
   "metadata": {},
   "outputs": [
    {
     "data": {
      "text/plain": [
       "Water Body Name          15\n",
       "All Pollutants           15\n",
       "Region                   15\n",
       "all_potential_sources    15\n",
       "dtype: int64"
      ]
     },
     "execution_count": 17,
     "metadata": {},
     "output_type": "execute_result"
    }
   ],
   "source": [
    "impaired_rivers_with_dam = impaired[impaired['all_potential_sources'].str.contains(\"Dam\")]\n",
    "impaired_rivers_with_dam.count()\n",
    "#df[df['A'].str.contains(\"hello\")]"
   ]
  },
  {
   "cell_type": "code",
   "execution_count": 18,
   "metadata": {},
   "outputs": [
    {
     "data": {
      "text/html": [
       "<div>\n",
       "<style scoped>\n",
       "    .dataframe tbody tr th:only-of-type {\n",
       "        vertical-align: middle;\n",
       "    }\n",
       "\n",
       "    .dataframe tbody tr th {\n",
       "        vertical-align: top;\n",
       "    }\n",
       "\n",
       "    .dataframe thead th {\n",
       "        text-align: right;\n",
       "    }\n",
       "</style>\n",
       "<table border=\"1\" class=\"dataframe\">\n",
       "  <thead>\n",
       "    <tr style=\"text-align: right;\">\n",
       "      <th></th>\n",
       "      <th>Water Body Name</th>\n",
       "      <th>All Pollutants</th>\n",
       "      <th>Region</th>\n",
       "      <th>all_potential_sources</th>\n",
       "    </tr>\n",
       "  </thead>\n",
       "  <tbody>\n",
       "    <tr>\n",
       "      <th>231</th>\n",
       "      <td>klamath river hu, lower ha, klamath glen hsa</td>\n",
       "      <td>Nutrients, Nutrients, Nutrients, Nutrients, Nu...</td>\n",
       "      <td>1</td>\n",
       "      <td>Agriculture, Agriculture-irrigation tailwater,...</td>\n",
       "    </tr>\n",
       "    <tr>\n",
       "      <th>273</th>\n",
       "      <td>klamath river hu, middle ha and lower ha, scot...</td>\n",
       "      <td>Cyanobacteria hepatotoxic microcystins, Cyanob...</td>\n",
       "      <td>1</td>\n",
       "      <td>Agricultural Water Diversion, Agriculture, Dam...</td>\n",
       "    </tr>\n",
       "    <tr>\n",
       "      <th>336</th>\n",
       "      <td>klamath river hu, middle ha, iron gate dam to ...</td>\n",
       "      <td>Cyanobacteria hepatotoxic microcystins, Cyanob...</td>\n",
       "      <td>1</td>\n",
       "      <td>Agriculture, Dam Construction, Drainage/Fillin...</td>\n",
       "    </tr>\n",
       "    <tr>\n",
       "      <th>371</th>\n",
       "      <td>klamath river hu, middle ha, oregon to iron gate</td>\n",
       "      <td>Cyanobacteria hepatotoxic microcystins, Cyanob...</td>\n",
       "      <td>1</td>\n",
       "      <td>Agriculture, Dam Construction, Drainage/Fillin...</td>\n",
       "    </tr>\n",
       "    <tr>\n",
       "      <th>437</th>\n",
       "      <td>klamath river hu, shasta river ha</td>\n",
       "      <td>Organic Enrichment/Low Dissolved Oxygen, Organ...</td>\n",
       "      <td>1</td>\n",
       "      <td>Agriculture-irrigation tailwater, Agriculture-...</td>\n",
       "    </tr>\n",
       "    <tr>\n",
       "      <th>586</th>\n",
       "      <td>russian river hu, lower russian river ha, aust...</td>\n",
       "      <td>Sedimentation/Siltation, Sedimentation/Siltati...</td>\n",
       "      <td>1</td>\n",
       "      <td>Construction/Land Development, Dam Constructio...</td>\n",
       "    </tr>\n",
       "    <tr>\n",
       "      <th>602</th>\n",
       "      <td>russian river hu, lower russian river ha, guer...</td>\n",
       "      <td>Indicator Bacteria, Sedimentation/Siltation, S...</td>\n",
       "      <td>1</td>\n",
       "      <td>Source Unknown, Agriculture, Agriculture-grazi...</td>\n",
       "    </tr>\n",
       "    <tr>\n",
       "      <th>811</th>\n",
       "      <td>russian river hu, upper russian river ha, coyo...</td>\n",
       "      <td>Sedimentation/Siltation, Sedimentation/Siltati...</td>\n",
       "      <td>1</td>\n",
       "      <td>Agriculture, Bridge Construction, Channel Eros...</td>\n",
       "    </tr>\n",
       "    <tr>\n",
       "      <th>881</th>\n",
       "      <td>trinity river hu, lower trinity ha</td>\n",
       "      <td>Sedimentation/Siltation, Sedimentation/Siltati...</td>\n",
       "      <td>1</td>\n",
       "      <td>Channel Erosion, Dam Construction, Drainage/Fi...</td>\n",
       "    </tr>\n",
       "    <tr>\n",
       "      <th>904</th>\n",
       "      <td>trinity river hu, middle ha</td>\n",
       "      <td>Sedimentation/Siltation, Sedimentation/Siltati...</td>\n",
       "      <td>1</td>\n",
       "      <td>Channel Erosion, Dam Construction, Erosion/Sil...</td>\n",
       "    </tr>\n",
       "    <tr>\n",
       "      <th>926</th>\n",
       "      <td>trinity river hu, upper ha</td>\n",
       "      <td>Sedimentation/Siltation, Sedimentation/Siltati...</td>\n",
       "      <td>1</td>\n",
       "      <td>Channel Erosion, Dam Construction, Erosion/Sil...</td>\n",
       "    </tr>\n",
       "    <tr>\n",
       "      <th>948</th>\n",
       "      <td>trinity river hu, upper ha, trinity river, eas...</td>\n",
       "      <td>Mercury, Sedimentation/Siltation, Sedimentatio...</td>\n",
       "      <td>1</td>\n",
       "      <td>Source Unknown, Channel Erosion, Dam Construct...</td>\n",
       "    </tr>\n",
       "    <tr>\n",
       "      <th>4776</th>\n",
       "      <td>malibu creek</td>\n",
       "      <td>Benthic-Macroinvertebrate Bioassessments, Coli...</td>\n",
       "      <td>4</td>\n",
       "      <td>Source Unknown, Nonpoint Source, Point Source,...</td>\n",
       "    </tr>\n",
       "    <tr>\n",
       "      <th>4853</th>\n",
       "      <td>matilija creek reach 1 (jct. with n. fork to r...</td>\n",
       "      <td>Fish Barriers (Fish Passage)</td>\n",
       "      <td>4</td>\n",
       "      <td>Dam Construction</td>\n",
       "    </tr>\n",
       "    <tr>\n",
       "      <th>4854</th>\n",
       "      <td>matilija creek reach 2 (above reservoir)</td>\n",
       "      <td>Fish Barriers (Fish Passage)</td>\n",
       "      <td>4</td>\n",
       "      <td>Dam Construction</td>\n",
       "    </tr>\n",
       "  </tbody>\n",
       "</table>\n",
       "</div>"
      ],
      "text/plain": [
       "                                        Water Body Name  \\\n",
       "231        klamath river hu, lower ha, klamath glen hsa   \n",
       "273   klamath river hu, middle ha and lower ha, scot...   \n",
       "336   klamath river hu, middle ha, iron gate dam to ...   \n",
       "371    klamath river hu, middle ha, oregon to iron gate   \n",
       "437                   klamath river hu, shasta river ha   \n",
       "586   russian river hu, lower russian river ha, aust...   \n",
       "602   russian river hu, lower russian river ha, guer...   \n",
       "811   russian river hu, upper russian river ha, coyo...   \n",
       "881                  trinity river hu, lower trinity ha   \n",
       "904                         trinity river hu, middle ha   \n",
       "926                          trinity river hu, upper ha   \n",
       "948   trinity river hu, upper ha, trinity river, eas...   \n",
       "4776                                       malibu creek   \n",
       "4853  matilija creek reach 1 (jct. with n. fork to r...   \n",
       "4854           matilija creek reach 2 (above reservoir)   \n",
       "\n",
       "                                         All Pollutants  Region  \\\n",
       "231   Nutrients, Nutrients, Nutrients, Nutrients, Nu...       1   \n",
       "273   Cyanobacteria hepatotoxic microcystins, Cyanob...       1   \n",
       "336   Cyanobacteria hepatotoxic microcystins, Cyanob...       1   \n",
       "371   Cyanobacteria hepatotoxic microcystins, Cyanob...       1   \n",
       "437   Organic Enrichment/Low Dissolved Oxygen, Organ...       1   \n",
       "586   Sedimentation/Siltation, Sedimentation/Siltati...       1   \n",
       "602   Indicator Bacteria, Sedimentation/Siltation, S...       1   \n",
       "811   Sedimentation/Siltation, Sedimentation/Siltati...       1   \n",
       "881   Sedimentation/Siltation, Sedimentation/Siltati...       1   \n",
       "904   Sedimentation/Siltation, Sedimentation/Siltati...       1   \n",
       "926   Sedimentation/Siltation, Sedimentation/Siltati...       1   \n",
       "948   Mercury, Sedimentation/Siltation, Sedimentatio...       1   \n",
       "4776  Benthic-Macroinvertebrate Bioassessments, Coli...       4   \n",
       "4853                       Fish Barriers (Fish Passage)       4   \n",
       "4854                       Fish Barriers (Fish Passage)       4   \n",
       "\n",
       "                                  all_potential_sources  \n",
       "231   Agriculture, Agriculture-irrigation tailwater,...  \n",
       "273   Agricultural Water Diversion, Agriculture, Dam...  \n",
       "336   Agriculture, Dam Construction, Drainage/Fillin...  \n",
       "371   Agriculture, Dam Construction, Drainage/Fillin...  \n",
       "437   Agriculture-irrigation tailwater, Agriculture-...  \n",
       "586   Construction/Land Development, Dam Constructio...  \n",
       "602   Source Unknown, Agriculture, Agriculture-grazi...  \n",
       "811   Agriculture, Bridge Construction, Channel Eros...  \n",
       "881   Channel Erosion, Dam Construction, Drainage/Fi...  \n",
       "904   Channel Erosion, Dam Construction, Erosion/Sil...  \n",
       "926   Channel Erosion, Dam Construction, Erosion/Sil...  \n",
       "948   Source Unknown, Channel Erosion, Dam Construct...  \n",
       "4776  Source Unknown, Nonpoint Source, Point Source,...  \n",
       "4853                                   Dam Construction  \n",
       "4854                                   Dam Construction  "
      ]
     },
     "execution_count": 18,
     "metadata": {},
     "output_type": "execute_result"
    }
   ],
   "source": [
    "impaired_rivers_with_dam.head(40)"
   ]
  },
  {
   "cell_type": "code",
   "execution_count": null,
   "metadata": {},
   "outputs": [],
   "source": []
  },
  {
   "cell_type": "code",
   "execution_count": null,
   "metadata": {},
   "outputs": [],
   "source": []
  },
  {
   "cell_type": "code",
   "execution_count": null,
   "metadata": {},
   "outputs": [],
   "source": []
  },
  {
   "cell_type": "code",
   "execution_count": null,
   "metadata": {},
   "outputs": [],
   "source": []
  },
  {
   "cell_type": "code",
   "execution_count": null,
   "metadata": {},
   "outputs": [],
   "source": []
  },
  {
   "cell_type": "markdown",
   "metadata": {},
   "source": [
    "## Now for the tricky part... We need to match up dammed rivers with impaired rivers\n",
    "\n",
    "Our goal is to compile a dataframe with columns:\n",
    "\n",
    "'River', 'Dam attributes', 'All Pollutants', 'All potential Sources'\n"
   ]
  },
  {
   "cell_type": "code",
   "execution_count": 19,
   "metadata": {},
   "outputs": [
    {
     "data": {
      "text/html": [
       "<div>\n",
       "<style scoped>\n",
       "    .dataframe tbody tr th:only-of-type {\n",
       "        vertical-align: middle;\n",
       "    }\n",
       "\n",
       "    .dataframe tbody tr th {\n",
       "        vertical-align: top;\n",
       "    }\n",
       "\n",
       "    .dataframe thead th {\n",
       "        text-align: right;\n",
       "    }\n",
       "</style>\n",
       "<table border=\"1\" class=\"dataframe\">\n",
       "  <thead>\n",
       "    <tr style=\"text-align: right;\">\n",
       "      <th></th>\n",
       "      <th>DAM_NAME</th>\n",
       "      <th>RIVER</th>\n",
       "      <th>VOLUME</th>\n",
       "      <th>PRIVATE_DAM</th>\n",
       "      <th>ATTRIBUTES</th>\n",
       "    </tr>\n",
       "  </thead>\n",
       "  <tbody>\n",
       "    <tr>\n",
       "      <th>0</th>\n",
       "      <td>Mendocino Middle</td>\n",
       "      <td>middle creek</td>\n",
       "      <td>0.0</td>\n",
       "      <td>N</td>\n",
       "      <td>[1908.0, 119.0, 39.0, 0.0, 0.0, 27.0, 2.0, 3.75]</td>\n",
       "    </tr>\n",
       "    <tr>\n",
       "      <th>1</th>\n",
       "      <td>Mendocino 3 Upper</td>\n",
       "      <td>middle creek</td>\n",
       "      <td>0.0</td>\n",
       "      <td>N</td>\n",
       "      <td>[1915.0, 254.0, 49.0, 0.0, 0.0, 85.0, 5.0, 3.2]</td>\n",
       "    </tr>\n",
       "    <tr>\n",
       "      <th>2</th>\n",
       "      <td>CAMILLE, LAKE</td>\n",
       "      <td>tr tulucay cr</td>\n",
       "      <td>22000.0</td>\n",
       "      <td>N</td>\n",
       "      <td>[1880.0, 600.0, 30.0, 0.0, 0.0, 47.0, 3.0, 0.1]</td>\n",
       "    </tr>\n",
       "    <tr>\n",
       "      <th>3</th>\n",
       "      <td>MARIE, LAKE</td>\n",
       "      <td>tr tulucay cr</td>\n",
       "      <td>75000.0</td>\n",
       "      <td>N</td>\n",
       "      <td>[1908.0, 454.0, 60.0, 0.0, 0.0, 170.0, 8.0, 1.06]</td>\n",
       "    </tr>\n",
       "    <tr>\n",
       "      <th>4</th>\n",
       "      <td>HENDERSON</td>\n",
       "      <td>jackass creek</td>\n",
       "      <td>70000.0</td>\n",
       "      <td>N</td>\n",
       "      <td>[1923.0, 630.0, 56.0, 0.0, 0.0, 500.0, 31.0, 1.0]</td>\n",
       "    </tr>\n",
       "  </tbody>\n",
       "</table>\n",
       "</div>"
      ],
      "text/plain": [
       "            DAM_NAME          RIVER   VOLUME PRIVATE_DAM  \\\n",
       "0   Mendocino Middle   middle creek      0.0           N   \n",
       "1  Mendocino 3 Upper   middle creek      0.0           N   \n",
       "2      CAMILLE, LAKE  tr tulucay cr  22000.0           N   \n",
       "3        MARIE, LAKE  tr tulucay cr  75000.0           N   \n",
       "4          HENDERSON  jackass creek  70000.0           N   \n",
       "\n",
       "                                          ATTRIBUTES  \n",
       "0   [1908.0, 119.0, 39.0, 0.0, 0.0, 27.0, 2.0, 3.75]  \n",
       "1    [1915.0, 254.0, 49.0, 0.0, 0.0, 85.0, 5.0, 3.2]  \n",
       "2    [1880.0, 600.0, 30.0, 0.0, 0.0, 47.0, 3.0, 0.1]  \n",
       "3  [1908.0, 454.0, 60.0, 0.0, 0.0, 170.0, 8.0, 1.06]  \n",
       "4  [1923.0, 630.0, 56.0, 0.0, 0.0, 500.0, 31.0, 1.0]  "
      ]
     },
     "execution_count": 19,
     "metadata": {},
     "output_type": "execute_result"
    }
   ],
   "source": [
    "cal_dams.head()"
   ]
  },
  {
   "cell_type": "markdown",
   "metadata": {},
   "source": [
    "\n",
    "\n",
    "\n",
    "\n",
    "\n",
    "\n"
   ]
  },
  {
   "cell_type": "code",
   "execution_count": 20,
   "metadata": {},
   "outputs": [
    {
     "data": {
      "text/html": [
       "<div>\n",
       "<style scoped>\n",
       "    .dataframe tbody tr th:only-of-type {\n",
       "        vertical-align: middle;\n",
       "    }\n",
       "\n",
       "    .dataframe tbody tr th {\n",
       "        vertical-align: top;\n",
       "    }\n",
       "\n",
       "    .dataframe thead th {\n",
       "        text-align: right;\n",
       "    }\n",
       "</style>\n",
       "<table border=\"1\" class=\"dataframe\">\n",
       "  <thead>\n",
       "    <tr style=\"text-align: right;\">\n",
       "      <th></th>\n",
       "      <th>Merger</th>\n",
       "      <th>All Pollutants</th>\n",
       "      <th>Region</th>\n",
       "      <th>all_potential_sources</th>\n",
       "    </tr>\n",
       "    <tr>\n",
       "      <th>Water Body Name</th>\n",
       "      <th></th>\n",
       "      <th></th>\n",
       "      <th></th>\n",
       "      <th></th>\n",
       "    </tr>\n",
       "  </thead>\n",
       "  <tbody>\n",
       "    <tr>\n",
       "      <th>bodega hu, estero americano ha, americano creek</th>\n",
       "      <td>bodega hu, estero americano ha, americano creek</td>\n",
       "      <td>Nutrients, Nutrients, Nutrients, Nutrients, Nu...</td>\n",
       "      <td>1</td>\n",
       "      <td>Dairies, Intensive Animal Feeding Operations, ...</td>\n",
       "    </tr>\n",
       "    <tr>\n",
       "      <th>bodega hu, estero de san antonio ha, stemple creek/estero de san antonio</th>\n",
       "      <td>bodega hu, estero de san antonio ha, stemple c...</td>\n",
       "      <td>Nutrients, Sediment, Sediment, Sediment, Sedim...</td>\n",
       "      <td>1</td>\n",
       "      <td>Source Unknown, Agriculture, Erosion/Siltation...</td>\n",
       "    </tr>\n",
       "    <tr>\n",
       "      <th>cape mendocino hu, mattole river ha, mattole river</th>\n",
       "      <td>cape mendocino hu, mattole river ha, mattole r...</td>\n",
       "      <td>Sedimentation/Siltation, Sedimentation/Siltati...</td>\n",
       "      <td>1</td>\n",
       "      <td>Erosion/Siltation, Habitat Modification, Hydro...</td>\n",
       "    </tr>\n",
       "    <tr>\n",
       "      <th>eel river hu, lower eel river ha (includes the eel river delta)</th>\n",
       "      <td>eel river hu, lower eel river ha (includes the...</td>\n",
       "      <td>Aluminum, Oxygen, Dissolved, Sedimentation/Sil...</td>\n",
       "      <td>1</td>\n",
       "      <td>Natural Sources, Source Unknown, Erosion/Silta...</td>\n",
       "    </tr>\n",
       "    <tr>\n",
       "      <th>eel river hu, middle fork ha, eden valley and round valley hsas</th>\n",
       "      <td>eel river hu, middle fork ha, eden valley and ...</td>\n",
       "      <td>Aluminum, Sedimentation/Siltation, Temperature...</td>\n",
       "      <td>1</td>\n",
       "      <td>Natural Sources, Erosion/Siltation, Nonpoint S...</td>\n",
       "    </tr>\n",
       "  </tbody>\n",
       "</table>\n",
       "</div>"
      ],
      "text/plain": [
       "                                                                                               Merger  \\\n",
       "Water Body Name                                                                                         \n",
       "bodega hu, estero americano ha, americano creek       bodega hu, estero americano ha, americano creek   \n",
       "bodega hu, estero de san antonio ha, stemple cr...  bodega hu, estero de san antonio ha, stemple c...   \n",
       "cape mendocino hu, mattole river ha, mattole river  cape mendocino hu, mattole river ha, mattole r...   \n",
       "eel river hu, lower eel river ha (includes the ...  eel river hu, lower eel river ha (includes the...   \n",
       "eel river hu, middle fork ha, eden valley and r...  eel river hu, middle fork ha, eden valley and ...   \n",
       "\n",
       "                                                                                       All Pollutants  \\\n",
       "Water Body Name                                                                                         \n",
       "bodega hu, estero americano ha, americano creek     Nutrients, Nutrients, Nutrients, Nutrients, Nu...   \n",
       "bodega hu, estero de san antonio ha, stemple cr...  Nutrients, Sediment, Sediment, Sediment, Sedim...   \n",
       "cape mendocino hu, mattole river ha, mattole river  Sedimentation/Siltation, Sedimentation/Siltati...   \n",
       "eel river hu, lower eel river ha (includes the ...  Aluminum, Oxygen, Dissolved, Sedimentation/Sil...   \n",
       "eel river hu, middle fork ha, eden valley and r...  Aluminum, Sedimentation/Siltation, Temperature...   \n",
       "\n",
       "                                                    Region  \\\n",
       "Water Body Name                                              \n",
       "bodega hu, estero americano ha, americano creek          1   \n",
       "bodega hu, estero de san antonio ha, stemple cr...       1   \n",
       "cape mendocino hu, mattole river ha, mattole river       1   \n",
       "eel river hu, lower eel river ha (includes the ...       1   \n",
       "eel river hu, middle fork ha, eden valley and r...       1   \n",
       "\n",
       "                                                                                all_potential_sources  \n",
       "Water Body Name                                                                                        \n",
       "bodega hu, estero americano ha, americano creek     Dairies, Intensive Animal Feeding Operations, ...  \n",
       "bodega hu, estero de san antonio ha, stemple cr...  Source Unknown, Agriculture, Erosion/Siltation...  \n",
       "cape mendocino hu, mattole river ha, mattole river  Erosion/Siltation, Habitat Modification, Hydro...  \n",
       "eel river hu, lower eel river ha (includes the ...  Natural Sources, Source Unknown, Erosion/Silta...  \n",
       "eel river hu, middle fork ha, eden valley and r...  Natural Sources, Erosion/Siltation, Nonpoint S...  "
      ]
     },
     "execution_count": 20,
     "metadata": {},
     "output_type": "execute_result"
    }
   ],
   "source": [
    "impaired = impaired.set_index('Water Body Name', drop=False)\n",
    "impaired = impaired.rename(columns={'Water Body Name': 'Merger'})\n",
    "\n",
    "cal_dams = cal_dams.set_index('RIVER', drop=False)\n",
    "cal_dams = cal_dams.rename(columns={'RIVER': 'Merger'})\n",
    "\n",
    "impaired.head()"
   ]
  },
  {
   "cell_type": "code",
   "execution_count": null,
   "metadata": {},
   "outputs": [],
   "source": []
  },
  {
   "cell_type": "code",
   "execution_count": null,
   "metadata": {},
   "outputs": [],
   "source": []
  },
  {
   "cell_type": "code",
   "execution_count": 21,
   "metadata": {},
   "outputs": [
    {
     "data": {
      "text/html": [
       "<div>\n",
       "<style scoped>\n",
       "    .dataframe tbody tr th:only-of-type {\n",
       "        vertical-align: middle;\n",
       "    }\n",
       "\n",
       "    .dataframe tbody tr th {\n",
       "        vertical-align: top;\n",
       "    }\n",
       "\n",
       "    .dataframe thead th {\n",
       "        text-align: right;\n",
       "    }\n",
       "</style>\n",
       "<table border=\"1\" class=\"dataframe\">\n",
       "  <thead>\n",
       "    <tr style=\"text-align: right;\">\n",
       "      <th></th>\n",
       "      <th>DAM_NAME</th>\n",
       "      <th>Merger</th>\n",
       "      <th>VOLUME</th>\n",
       "      <th>PRIVATE_DAM</th>\n",
       "      <th>ATTRIBUTES</th>\n",
       "    </tr>\n",
       "    <tr>\n",
       "      <th>RIVER</th>\n",
       "      <th></th>\n",
       "      <th></th>\n",
       "      <th></th>\n",
       "      <th></th>\n",
       "      <th></th>\n",
       "    </tr>\n",
       "  </thead>\n",
       "  <tbody>\n",
       "    <tr>\n",
       "      <th>middle creek</th>\n",
       "      <td>Mendocino Middle</td>\n",
       "      <td>middle creek</td>\n",
       "      <td>0.0</td>\n",
       "      <td>N</td>\n",
       "      <td>[1908.0, 119.0, 39.0, 0.0, 0.0, 27.0, 2.0, 3.75]</td>\n",
       "    </tr>\n",
       "    <tr>\n",
       "      <th>middle creek</th>\n",
       "      <td>Mendocino 3 Upper</td>\n",
       "      <td>middle creek</td>\n",
       "      <td>0.0</td>\n",
       "      <td>N</td>\n",
       "      <td>[1915.0, 254.0, 49.0, 0.0, 0.0, 85.0, 5.0, 3.2]</td>\n",
       "    </tr>\n",
       "    <tr>\n",
       "      <th>tr tulucay cr</th>\n",
       "      <td>CAMILLE, LAKE</td>\n",
       "      <td>tr tulucay cr</td>\n",
       "      <td>22000.0</td>\n",
       "      <td>N</td>\n",
       "      <td>[1880.0, 600.0, 30.0, 0.0, 0.0, 47.0, 3.0, 0.1]</td>\n",
       "    </tr>\n",
       "    <tr>\n",
       "      <th>tr tulucay cr</th>\n",
       "      <td>MARIE, LAKE</td>\n",
       "      <td>tr tulucay cr</td>\n",
       "      <td>75000.0</td>\n",
       "      <td>N</td>\n",
       "      <td>[1908.0, 454.0, 60.0, 0.0, 0.0, 170.0, 8.0, 1.06]</td>\n",
       "    </tr>\n",
       "    <tr>\n",
       "      <th>jackass creek</th>\n",
       "      <td>HENDERSON</td>\n",
       "      <td>jackass creek</td>\n",
       "      <td>70000.0</td>\n",
       "      <td>N</td>\n",
       "      <td>[1923.0, 630.0, 56.0, 0.0, 0.0, 500.0, 31.0, 1.0]</td>\n",
       "    </tr>\n",
       "  </tbody>\n",
       "</table>\n",
       "</div>"
      ],
      "text/plain": [
       "                        DAM_NAME         Merger   VOLUME PRIVATE_DAM  \\\n",
       "RIVER                                                                  \n",
       "middle creek    Mendocino Middle   middle creek      0.0           N   \n",
       "middle creek   Mendocino 3 Upper   middle creek      0.0           N   \n",
       "tr tulucay cr      CAMILLE, LAKE  tr tulucay cr  22000.0           N   \n",
       "tr tulucay cr        MARIE, LAKE  tr tulucay cr  75000.0           N   \n",
       "jackass creek          HENDERSON  jackass creek  70000.0           N   \n",
       "\n",
       "                                                      ATTRIBUTES  \n",
       "RIVER                                                             \n",
       "middle creek    [1908.0, 119.0, 39.0, 0.0, 0.0, 27.0, 2.0, 3.75]  \n",
       "middle creek     [1915.0, 254.0, 49.0, 0.0, 0.0, 85.0, 5.0, 3.2]  \n",
       "tr tulucay cr    [1880.0, 600.0, 30.0, 0.0, 0.0, 47.0, 3.0, 0.1]  \n",
       "tr tulucay cr  [1908.0, 454.0, 60.0, 0.0, 0.0, 170.0, 8.0, 1.06]  \n",
       "jackass creek  [1923.0, 630.0, 56.0, 0.0, 0.0, 500.0, 31.0, 1.0]  "
      ]
     },
     "execution_count": 21,
     "metadata": {},
     "output_type": "execute_result"
    }
   ],
   "source": [
    "cal_dams.head()"
   ]
  },
  {
   "cell_type": "code",
   "execution_count": null,
   "metadata": {},
   "outputs": [],
   "source": []
  },
  {
   "cell_type": "code",
   "execution_count": null,
   "metadata": {},
   "outputs": [],
   "source": []
  },
  {
   "cell_type": "code",
   "execution_count": null,
   "metadata": {},
   "outputs": [],
   "source": []
  },
  {
   "cell_type": "code",
   "execution_count": 22,
   "metadata": {},
   "outputs": [
    {
     "name": "stderr",
     "output_type": "stream",
     "text": [
      "/usr/local/anaconda3/lib/python3.8/site-packages/pandas/core/indexing.py:670: SettingWithCopyWarning: \n",
      "A value is trying to be set on a copy of a slice from a DataFrame\n",
      "\n",
      "See the caveats in the documentation: https://pandas.pydata.org/pandas-docs/stable/user_guide/indexing.html#returning-a-view-versus-a-copy\n",
      "  iloc._setitem_with_indexer(indexer, value)\n"
     ]
    }
   ],
   "source": [
    "for impaired_river in impaired['Merger']:\n",
    "    \n",
    "    for river in cal_dams['Merger']:\n",
    "        if river in impaired_river:\n",
    "            impaired['Merger'].loc[impaired['Merger'] == impaired_river] = river\n",
    "            impaired_river = river\n",
    "            break\n",
    "\n",
    "            "
   ]
  },
  {
   "cell_type": "code",
   "execution_count": 23,
   "metadata": {},
   "outputs": [
    {
     "data": {
      "text/html": [
       "<div>\n",
       "<style scoped>\n",
       "    .dataframe tbody tr th:only-of-type {\n",
       "        vertical-align: middle;\n",
       "    }\n",
       "\n",
       "    .dataframe tbody tr th {\n",
       "        vertical-align: top;\n",
       "    }\n",
       "\n",
       "    .dataframe thead th {\n",
       "        text-align: right;\n",
       "    }\n",
       "</style>\n",
       "<table border=\"1\" class=\"dataframe\">\n",
       "  <thead>\n",
       "    <tr style=\"text-align: right;\">\n",
       "      <th></th>\n",
       "      <th>Merger</th>\n",
       "      <th>All Pollutants</th>\n",
       "      <th>Region</th>\n",
       "      <th>all_potential_sources</th>\n",
       "    </tr>\n",
       "    <tr>\n",
       "      <th>Water Body Name</th>\n",
       "      <th></th>\n",
       "      <th></th>\n",
       "      <th></th>\n",
       "      <th></th>\n",
       "    </tr>\n",
       "  </thead>\n",
       "  <tbody>\n",
       "    <tr>\n",
       "      <th>bodega hu, estero americano ha, americano creek</th>\n",
       "      <td>bodega hu, estero americano ha, americano creek</td>\n",
       "      <td>Nutrients, Nutrients, Nutrients, Nutrients, Nu...</td>\n",
       "      <td>1</td>\n",
       "      <td>Dairies, Intensive Animal Feeding Operations, ...</td>\n",
       "    </tr>\n",
       "    <tr>\n",
       "      <th>bodega hu, estero de san antonio ha, stemple creek/estero de san antonio</th>\n",
       "      <td>bodega hu, estero de san antonio ha, stemple c...</td>\n",
       "      <td>Nutrients, Sediment, Sediment, Sediment, Sedim...</td>\n",
       "      <td>1</td>\n",
       "      <td>Source Unknown, Agriculture, Erosion/Siltation...</td>\n",
       "    </tr>\n",
       "    <tr>\n",
       "      <th>cape mendocino hu, mattole river ha, mattole river</th>\n",
       "      <td>cape mendocino hu, mattole river ha, mattole r...</td>\n",
       "      <td>Sedimentation/Siltation, Sedimentation/Siltati...</td>\n",
       "      <td>1</td>\n",
       "      <td>Erosion/Siltation, Habitat Modification, Hydro...</td>\n",
       "    </tr>\n",
       "    <tr>\n",
       "      <th>eel river hu, lower eel river ha (includes the eel river delta)</th>\n",
       "      <td>eel river</td>\n",
       "      <td>Aluminum, Oxygen, Dissolved, Sedimentation/Sil...</td>\n",
       "      <td>1</td>\n",
       "      <td>Natural Sources, Source Unknown, Erosion/Silta...</td>\n",
       "    </tr>\n",
       "    <tr>\n",
       "      <th>eel river hu, middle fork ha, eden valley and round valley hsas</th>\n",
       "      <td>eel river</td>\n",
       "      <td>Aluminum, Sedimentation/Siltation, Temperature...</td>\n",
       "      <td>1</td>\n",
       "      <td>Natural Sources, Erosion/Siltation, Nonpoint S...</td>\n",
       "    </tr>\n",
       "  </tbody>\n",
       "</table>\n",
       "</div>"
      ],
      "text/plain": [
       "                                                                                               Merger  \\\n",
       "Water Body Name                                                                                         \n",
       "bodega hu, estero americano ha, americano creek       bodega hu, estero americano ha, americano creek   \n",
       "bodega hu, estero de san antonio ha, stemple cr...  bodega hu, estero de san antonio ha, stemple c...   \n",
       "cape mendocino hu, mattole river ha, mattole river  cape mendocino hu, mattole river ha, mattole r...   \n",
       "eel river hu, lower eel river ha (includes the ...                                          eel river   \n",
       "eel river hu, middle fork ha, eden valley and r...                                          eel river   \n",
       "\n",
       "                                                                                       All Pollutants  \\\n",
       "Water Body Name                                                                                         \n",
       "bodega hu, estero americano ha, americano creek     Nutrients, Nutrients, Nutrients, Nutrients, Nu...   \n",
       "bodega hu, estero de san antonio ha, stemple cr...  Nutrients, Sediment, Sediment, Sediment, Sedim...   \n",
       "cape mendocino hu, mattole river ha, mattole river  Sedimentation/Siltation, Sedimentation/Siltati...   \n",
       "eel river hu, lower eel river ha (includes the ...  Aluminum, Oxygen, Dissolved, Sedimentation/Sil...   \n",
       "eel river hu, middle fork ha, eden valley and r...  Aluminum, Sedimentation/Siltation, Temperature...   \n",
       "\n",
       "                                                    Region  \\\n",
       "Water Body Name                                              \n",
       "bodega hu, estero americano ha, americano creek          1   \n",
       "bodega hu, estero de san antonio ha, stemple cr...       1   \n",
       "cape mendocino hu, mattole river ha, mattole river       1   \n",
       "eel river hu, lower eel river ha (includes the ...       1   \n",
       "eel river hu, middle fork ha, eden valley and r...       1   \n",
       "\n",
       "                                                                                all_potential_sources  \n",
       "Water Body Name                                                                                        \n",
       "bodega hu, estero americano ha, americano creek     Dairies, Intensive Animal Feeding Operations, ...  \n",
       "bodega hu, estero de san antonio ha, stemple cr...  Source Unknown, Agriculture, Erosion/Siltation...  \n",
       "cape mendocino hu, mattole river ha, mattole river  Erosion/Siltation, Habitat Modification, Hydro...  \n",
       "eel river hu, lower eel river ha (includes the ...  Natural Sources, Source Unknown, Erosion/Silta...  \n",
       "eel river hu, middle fork ha, eden valley and r...  Natural Sources, Erosion/Siltation, Nonpoint S...  "
      ]
     },
     "execution_count": 23,
     "metadata": {},
     "output_type": "execute_result"
    }
   ],
   "source": [
    "impaired.head(20)\n",
    "#impaired = impaired.drop(labels=['Dam','Merge'], axis=1)\n",
    "#print(type(impaired['Water Body Name'][3]))\n",
    "impaired.head()"
   ]
  },
  {
   "cell_type": "code",
   "execution_count": 24,
   "metadata": {},
   "outputs": [
    {
     "data": {
      "text/plain": [
       "Merger\n",
       "middle creek           N,N\n",
       "tr tulucay cr          N,N\n",
       "jackass creek          N,N\n",
       "tr mill creek            N\n",
       "tr napa river    N,N,N,N,N\n",
       "Name: PRIVATE_DAM, dtype: object"
      ]
     },
     "execution_count": 24,
     "metadata": {},
     "output_type": "execute_result"
    }
   ],
   "source": [
    "## Condense cal_dams to only one entry per river\n",
    "\n",
    "s_cal_dams = cal_dams.groupby(['Merger'], sort=False)['PRIVATE_DAM'].apply(lambda x: ','.join(x.astype(str)))\n",
    "s_cal_dams.head()"
   ]
  },
  {
   "cell_type": "code",
   "execution_count": null,
   "metadata": {},
   "outputs": [],
   "source": []
  },
  {
   "cell_type": "code",
   "execution_count": 25,
   "metadata": {},
   "outputs": [
    {
     "data": {
      "text/html": [
       "<div>\n",
       "<style scoped>\n",
       "    .dataframe tbody tr th:only-of-type {\n",
       "        vertical-align: middle;\n",
       "    }\n",
       "\n",
       "    .dataframe tbody tr th {\n",
       "        vertical-align: top;\n",
       "    }\n",
       "\n",
       "    .dataframe thead th {\n",
       "        text-align: right;\n",
       "    }\n",
       "</style>\n",
       "<table border=\"1\" class=\"dataframe\">\n",
       "  <thead>\n",
       "    <tr style=\"text-align: right;\">\n",
       "      <th></th>\n",
       "      <th>DAM_NAME</th>\n",
       "      <th>Merger</th>\n",
       "      <th>VOLUME</th>\n",
       "      <th>PRIVATE_DAM</th>\n",
       "      <th>ATTRIBUTES</th>\n",
       "    </tr>\n",
       "    <tr>\n",
       "      <th>RIVER</th>\n",
       "      <th></th>\n",
       "      <th></th>\n",
       "      <th></th>\n",
       "      <th></th>\n",
       "      <th></th>\n",
       "    </tr>\n",
       "  </thead>\n",
       "  <tbody>\n",
       "    <tr>\n",
       "      <th>pit river - offstream</th>\n",
       "      <td>Collett Addition</td>\n",
       "      <td>pit river - offstream</td>\n",
       "      <td>0.0</td>\n",
       "      <td>N</td>\n",
       "      <td>[1991.0, 2900.0, 40.0, 700.0, 7690.0, 0.0, 255...</td>\n",
       "    </tr>\n",
       "    <tr>\n",
       "      <th>santa margarita riv offstream</th>\n",
       "      <td>LAKE O'NEILL DAM</td>\n",
       "      <td>santa margarita riv offstream</td>\n",
       "      <td>0.0</td>\n",
       "      <td>N</td>\n",
       "      <td>[1883.0, 1500.0, 14.0, 800.0, 1395.0, 1057.0, ...</td>\n",
       "    </tr>\n",
       "    <tr>\n",
       "      <th>senator wash - offstream</th>\n",
       "      <td>SENATOR WASH NORTH DIKE</td>\n",
       "      <td>senator wash - offstream</td>\n",
       "      <td>79000.0</td>\n",
       "      <td>N</td>\n",
       "      <td>[1966.0, 613.0, 64.2, 0.0, 17766.0, 9144.0, 51...</td>\n",
       "    </tr>\n",
       "    <tr>\n",
       "      <th>senator wash - offstream</th>\n",
       "      <td>SENATOR WASH SQUAW LAKE DIKE</td>\n",
       "      <td>senator wash - offstream</td>\n",
       "      <td>950000.0</td>\n",
       "      <td>N</td>\n",
       "      <td>[1966.0, 3795.0, 95.3, 0.0, 17766.0, 9144.0, 5...</td>\n",
       "    </tr>\n",
       "  </tbody>\n",
       "</table>\n",
       "</div>"
      ],
      "text/plain": [
       "                                                   DAM_NAME  \\\n",
       "RIVER                                                         \n",
       "pit river - offstream                      Collett Addition   \n",
       "santa margarita riv offstream              LAKE O'NEILL DAM   \n",
       "senator wash - offstream            SENATOR WASH NORTH DIKE   \n",
       "senator wash - offstream       SENATOR WASH SQUAW LAKE DIKE   \n",
       "\n",
       "                                                      Merger    VOLUME  \\\n",
       "RIVER                                                                    \n",
       "pit river - offstream                  pit river - offstream       0.0   \n",
       "santa margarita riv offstream  santa margarita riv offstream       0.0   \n",
       "senator wash - offstream            senator wash - offstream   79000.0   \n",
       "senator wash - offstream            senator wash - offstream  950000.0   \n",
       "\n",
       "                              PRIVATE_DAM  \\\n",
       "RIVER                                       \n",
       "pit river - offstream                   N   \n",
       "santa margarita riv offstream           N   \n",
       "senator wash - offstream                N   \n",
       "senator wash - offstream                N   \n",
       "\n",
       "                                                                      ATTRIBUTES  \n",
       "RIVER                                                                             \n",
       "pit river - offstream          [1991.0, 2900.0, 40.0, 700.0, 7690.0, 0.0, 255...  \n",
       "santa margarita riv offstream  [1883.0, 1500.0, 14.0, 800.0, 1395.0, 1057.0, ...  \n",
       "senator wash - offstream       [1966.0, 613.0, 64.2, 0.0, 17766.0, 9144.0, 51...  \n",
       "senator wash - offstream       [1966.0, 3795.0, 95.3, 0.0, 17766.0, 9144.0, 5...  "
      ]
     },
     "execution_count": 25,
     "metadata": {},
     "output_type": "execute_result"
    }
   ],
   "source": [
    "cal_dams[cal_dams['Merger'].str.contains(\"offstream\")]"
   ]
  },
  {
   "cell_type": "code",
   "execution_count": null,
   "metadata": {},
   "outputs": [],
   "source": []
  },
  {
   "cell_type": "code",
   "execution_count": null,
   "metadata": {},
   "outputs": [],
   "source": []
  },
  {
   "cell_type": "markdown",
   "metadata": {},
   "source": [
    "# Merging impaired and cal_dams to one df\n",
    "df = all impaired rivers with associated dam values"
   ]
  },
  {
   "cell_type": "code",
   "execution_count": 26,
   "metadata": {},
   "outputs": [],
   "source": [
    "df = impaired.merge(s_cal_dams, how='left', left_on='Merger', right_on='Merger')"
   ]
  },
  {
   "cell_type": "code",
   "execution_count": 27,
   "metadata": {},
   "outputs": [],
   "source": [
    "# df[df['PRIVATE_DAM'] == 'Y'].count()"
   ]
  },
  {
   "cell_type": "code",
   "execution_count": 28,
   "metadata": {},
   "outputs": [
    {
     "name": "stdout",
     "output_type": "stream",
     "text": [
      "Aluminum, Oxygen, Dissolved, Sedimentation/Siltation, Sedimentation/Siltation, Sedimentation/Siltation, Sedimentation/Siltation, Temperature, water, Temperature, water\n"
     ]
    },
    {
     "data": {
      "text/html": [
       "<div>\n",
       "<style scoped>\n",
       "    .dataframe tbody tr th:only-of-type {\n",
       "        vertical-align: middle;\n",
       "    }\n",
       "\n",
       "    .dataframe tbody tr th {\n",
       "        vertical-align: top;\n",
       "    }\n",
       "\n",
       "    .dataframe thead th {\n",
       "        text-align: right;\n",
       "    }\n",
       "</style>\n",
       "<table border=\"1\" class=\"dataframe\">\n",
       "  <thead>\n",
       "    <tr style=\"text-align: right;\">\n",
       "      <th></th>\n",
       "      <th>Merger</th>\n",
       "      <th>All Pollutants</th>\n",
       "      <th>Region</th>\n",
       "      <th>all_potential_sources</th>\n",
       "      <th>PRIVATE_DAM</th>\n",
       "    </tr>\n",
       "  </thead>\n",
       "  <tbody>\n",
       "    <tr>\n",
       "      <th>0</th>\n",
       "      <td>bodega hu, estero americano ha, americano creek</td>\n",
       "      <td>Nutrients, Nutrients, Nutrients, Nutrients, Nu...</td>\n",
       "      <td>1</td>\n",
       "      <td>Dairies, Intensive Animal Feeding Operations, ...</td>\n",
       "      <td>NaN</td>\n",
       "    </tr>\n",
       "    <tr>\n",
       "      <th>1</th>\n",
       "      <td>bodega hu, estero de san antonio ha, stemple c...</td>\n",
       "      <td>Nutrients, Sediment, Sediment, Sediment, Sedim...</td>\n",
       "      <td>1</td>\n",
       "      <td>Source Unknown, Agriculture, Erosion/Siltation...</td>\n",
       "      <td>NaN</td>\n",
       "    </tr>\n",
       "    <tr>\n",
       "      <th>2</th>\n",
       "      <td>cape mendocino hu, mattole river ha, mattole r...</td>\n",
       "      <td>Sedimentation/Siltation, Sedimentation/Siltati...</td>\n",
       "      <td>1</td>\n",
       "      <td>Erosion/Siltation, Habitat Modification, Hydro...</td>\n",
       "      <td>NaN</td>\n",
       "    </tr>\n",
       "    <tr>\n",
       "      <th>3</th>\n",
       "      <td>eel river</td>\n",
       "      <td>Aluminum, Oxygen, Dissolved, Sedimentation/Sil...</td>\n",
       "      <td>1</td>\n",
       "      <td>Natural Sources, Source Unknown, Erosion/Silta...</td>\n",
       "      <td>N,N</td>\n",
       "    </tr>\n",
       "    <tr>\n",
       "      <th>4</th>\n",
       "      <td>eel river</td>\n",
       "      <td>Aluminum, Sedimentation/Siltation, Temperature...</td>\n",
       "      <td>1</td>\n",
       "      <td>Natural Sources, Erosion/Siltation, Nonpoint S...</td>\n",
       "      <td>N,N</td>\n",
       "    </tr>\n",
       "  </tbody>\n",
       "</table>\n",
       "</div>"
      ],
      "text/plain": [
       "                                              Merger  \\\n",
       "0    bodega hu, estero americano ha, americano creek   \n",
       "1  bodega hu, estero de san antonio ha, stemple c...   \n",
       "2  cape mendocino hu, mattole river ha, mattole r...   \n",
       "3                                          eel river   \n",
       "4                                          eel river   \n",
       "\n",
       "                                      All Pollutants  Region  \\\n",
       "0  Nutrients, Nutrients, Nutrients, Nutrients, Nu...       1   \n",
       "1  Nutrients, Sediment, Sediment, Sediment, Sedim...       1   \n",
       "2  Sedimentation/Siltation, Sedimentation/Siltati...       1   \n",
       "3  Aluminum, Oxygen, Dissolved, Sedimentation/Sil...       1   \n",
       "4  Aluminum, Sedimentation/Siltation, Temperature...       1   \n",
       "\n",
       "                               all_potential_sources PRIVATE_DAM  \n",
       "0  Dairies, Intensive Animal Feeding Operations, ...         NaN  \n",
       "1  Source Unknown, Agriculture, Erosion/Siltation...         NaN  \n",
       "2  Erosion/Siltation, Habitat Modification, Hydro...         NaN  \n",
       "3  Natural Sources, Source Unknown, Erosion/Silta...         N,N  \n",
       "4  Natural Sources, Erosion/Siltation, Nonpoint S...         N,N  "
      ]
     },
     "execution_count": 28,
     "metadata": {},
     "output_type": "execute_result"
    }
   ],
   "source": [
    "#impaired.head(30)\n",
    "print(df['All Pollutants'][3])\n",
    "\n",
    "df.head()\n"
   ]
  },
  {
   "cell_type": "markdown",
   "metadata": {},
   "source": [
    "# Still need to remove duplicates from 'All Pollutants', 'All_potential_sources'"
   ]
  },
  {
   "cell_type": "code",
   "execution_count": null,
   "metadata": {},
   "outputs": [],
   "source": []
  },
  {
   "cell_type": "code",
   "execution_count": 29,
   "metadata": {},
   "outputs": [
    {
     "name": "stderr",
     "output_type": "stream",
     "text": [
      "<ipython-input-29-2403ac1f45e9>:6: SettingWithCopyWarning: \n",
      "A value is trying to be set on a copy of a slice from a DataFrame\n",
      "\n",
      "See the caveats in the documentation: https://pandas.pydata.org/pandas-docs/stable/user_guide/indexing.html#returning-a-view-versus-a-copy\n",
      "  df['All Pollutants'][i] = p_list\n",
      "<ipython-input-29-2403ac1f45e9>:8: SettingWithCopyWarning: \n",
      "A value is trying to be set on a copy of a slice from a DataFrame\n",
      "\n",
      "See the caveats in the documentation: https://pandas.pydata.org/pandas-docs/stable/user_guide/indexing.html#returning-a-view-versus-a-copy\n",
      "  df['Num Pollutants'][i] = len(p_list)\n"
     ]
    },
    {
     "data": {
      "text/html": [
       "<div>\n",
       "<style scoped>\n",
       "    .dataframe tbody tr th:only-of-type {\n",
       "        vertical-align: middle;\n",
       "    }\n",
       "\n",
       "    .dataframe tbody tr th {\n",
       "        vertical-align: top;\n",
       "    }\n",
       "\n",
       "    .dataframe thead th {\n",
       "        text-align: right;\n",
       "    }\n",
       "</style>\n",
       "<table border=\"1\" class=\"dataframe\">\n",
       "  <thead>\n",
       "    <tr style=\"text-align: right;\">\n",
       "      <th></th>\n",
       "      <th>Merger</th>\n",
       "      <th>All Pollutants</th>\n",
       "      <th>Region</th>\n",
       "      <th>all_potential_sources</th>\n",
       "      <th>PRIVATE_DAM</th>\n",
       "      <th>Num Pollutants</th>\n",
       "    </tr>\n",
       "  </thead>\n",
       "  <tbody>\n",
       "    <tr>\n",
       "      <th>0</th>\n",
       "      <td>bodega hu, estero americano ha, americano creek</td>\n",
       "      <td>[Nutrients]</td>\n",
       "      <td>1</td>\n",
       "      <td>Dairies, Intensive Animal Feeding Operations, ...</td>\n",
       "      <td>NaN</td>\n",
       "      <td>1</td>\n",
       "    </tr>\n",
       "    <tr>\n",
       "      <th>1</th>\n",
       "      <td>bodega hu, estero de san antonio ha, stemple c...</td>\n",
       "      <td>[Nutrients, Sediment]</td>\n",
       "      <td>1</td>\n",
       "      <td>Source Unknown, Agriculture, Erosion/Siltation...</td>\n",
       "      <td>NaN</td>\n",
       "      <td>2</td>\n",
       "    </tr>\n",
       "    <tr>\n",
       "      <th>2</th>\n",
       "      <td>cape mendocino hu, mattole river ha, mattole r...</td>\n",
       "      <td>[Sedimentation/Siltation, Temperature, water]</td>\n",
       "      <td>1</td>\n",
       "      <td>Erosion/Siltation, Habitat Modification, Hydro...</td>\n",
       "      <td>NaN</td>\n",
       "      <td>3</td>\n",
       "    </tr>\n",
       "    <tr>\n",
       "      <th>3</th>\n",
       "      <td>eel river</td>\n",
       "      <td>[Aluminum, Oxygen, Dissolved, Sedimentation/Si...</td>\n",
       "      <td>1</td>\n",
       "      <td>Natural Sources, Source Unknown, Erosion/Silta...</td>\n",
       "      <td>N,N</td>\n",
       "      <td>6</td>\n",
       "    </tr>\n",
       "    <tr>\n",
       "      <th>4</th>\n",
       "      <td>eel river</td>\n",
       "      <td>[Aluminum, Sedimentation/Siltation, Temperatur...</td>\n",
       "      <td>1</td>\n",
       "      <td>Natural Sources, Erosion/Siltation, Nonpoint S...</td>\n",
       "      <td>N,N</td>\n",
       "      <td>4</td>\n",
       "    </tr>\n",
       "  </tbody>\n",
       "</table>\n",
       "</div>"
      ],
      "text/plain": [
       "                                              Merger  \\\n",
       "0    bodega hu, estero americano ha, americano creek   \n",
       "1  bodega hu, estero de san antonio ha, stemple c...   \n",
       "2  cape mendocino hu, mattole river ha, mattole r...   \n",
       "3                                          eel river   \n",
       "4                                          eel river   \n",
       "\n",
       "                                      All Pollutants  Region  \\\n",
       "0                                        [Nutrients]       1   \n",
       "1                              [Nutrients, Sediment]       1   \n",
       "2      [Sedimentation/Siltation, Temperature, water]       1   \n",
       "3  [Aluminum, Oxygen, Dissolved, Sedimentation/Si...       1   \n",
       "4  [Aluminum, Sedimentation/Siltation, Temperatur...       1   \n",
       "\n",
       "                               all_potential_sources PRIVATE_DAM  \\\n",
       "0  Dairies, Intensive Animal Feeding Operations, ...         NaN   \n",
       "1  Source Unknown, Agriculture, Erosion/Siltation...         NaN   \n",
       "2  Erosion/Siltation, Habitat Modification, Hydro...         NaN   \n",
       "3  Natural Sources, Source Unknown, Erosion/Silta...         N,N   \n",
       "4  Natural Sources, Erosion/Siltation, Nonpoint S...         N,N   \n",
       "\n",
       "   Num Pollutants  \n",
       "0               1  \n",
       "1               2  \n",
       "2               3  \n",
       "3               6  \n",
       "4               4  "
      ]
     },
     "execution_count": 29,
     "metadata": {},
     "output_type": "execute_result"
    }
   ],
   "source": [
    "df['Num Pollutants'] = 0\n",
    "for i in range (df['All Pollutants'].count()):\n",
    "    p_list = df['All Pollutants'][i].split(', ')\n",
    "    p_list = list(dict.fromkeys(p_list))\n",
    "#    df['All Pollutants'][i] = ', '.join(p_list)\n",
    "    df['All Pollutants'][i] = p_list\n",
    "\n",
    "    df['Num Pollutants'][i] = len(p_list)\n",
    "    \n",
    "df.head()"
   ]
  },
  {
   "cell_type": "code",
   "execution_count": 30,
   "metadata": {},
   "outputs": [
    {
     "data": {
      "text/plain": [
       "Merger                   704\n",
       "All Pollutants           704\n",
       "Region                   704\n",
       "all_potential_sources    704\n",
       "PRIVATE_DAM              334\n",
       "Num Pollutants           704\n",
       "dtype: int64"
      ]
     },
     "execution_count": 30,
     "metadata": {},
     "output_type": "execute_result"
    }
   ],
   "source": [
    "df.count()"
   ]
  },
  {
   "cell_type": "code",
   "execution_count": 31,
   "metadata": {},
   "outputs": [
    {
     "data": {
      "text/plain": [
       "numpy.int64"
      ]
     },
     "execution_count": 31,
     "metadata": {},
     "output_type": "execute_result"
    }
   ],
   "source": [
    "type(df['All Pollutants'].count())"
   ]
  },
  {
   "cell_type": "code",
   "execution_count": 32,
   "metadata": {},
   "outputs": [
    {
     "data": {
      "text/html": [
       "<div>\n",
       "<style scoped>\n",
       "    .dataframe tbody tr th:only-of-type {\n",
       "        vertical-align: middle;\n",
       "    }\n",
       "\n",
       "    .dataframe tbody tr th {\n",
       "        vertical-align: top;\n",
       "    }\n",
       "\n",
       "    .dataframe thead th {\n",
       "        text-align: right;\n",
       "    }\n",
       "</style>\n",
       "<table border=\"1\" class=\"dataframe\">\n",
       "  <thead>\n",
       "    <tr style=\"text-align: right;\">\n",
       "      <th></th>\n",
       "      <th>Merger</th>\n",
       "      <th>All Pollutants</th>\n",
       "      <th>Region</th>\n",
       "      <th>all_potential_sources</th>\n",
       "      <th>PRIVATE_DAM</th>\n",
       "      <th>Num Pollutants</th>\n",
       "    </tr>\n",
       "  </thead>\n",
       "  <tbody>\n",
       "    <tr>\n",
       "      <th>0</th>\n",
       "      <td>bodega hu, estero americano ha, americano creek</td>\n",
       "      <td>[Nutrients]</td>\n",
       "      <td>1</td>\n",
       "      <td>Dairies, Intensive Animal Feeding Operations, ...</td>\n",
       "      <td>NaN</td>\n",
       "      <td>1</td>\n",
       "    </tr>\n",
       "    <tr>\n",
       "      <th>1</th>\n",
       "      <td>bodega hu, estero de san antonio ha, stemple c...</td>\n",
       "      <td>[Nutrients, Sediment]</td>\n",
       "      <td>1</td>\n",
       "      <td>Source Unknown, Agriculture, Erosion/Siltation...</td>\n",
       "      <td>NaN</td>\n",
       "      <td>2</td>\n",
       "    </tr>\n",
       "    <tr>\n",
       "      <th>2</th>\n",
       "      <td>cape mendocino hu, mattole river ha, mattole r...</td>\n",
       "      <td>[Sedimentation/Siltation, Temperature, water]</td>\n",
       "      <td>1</td>\n",
       "      <td>Erosion/Siltation, Habitat Modification, Hydro...</td>\n",
       "      <td>NaN</td>\n",
       "      <td>3</td>\n",
       "    </tr>\n",
       "    <tr>\n",
       "      <th>3</th>\n",
       "      <td>eel river</td>\n",
       "      <td>[Aluminum, Oxygen, Dissolved, Sedimentation/Si...</td>\n",
       "      <td>1</td>\n",
       "      <td>Natural Sources, Source Unknown, Erosion/Silta...</td>\n",
       "      <td>N,N</td>\n",
       "      <td>6</td>\n",
       "    </tr>\n",
       "    <tr>\n",
       "      <th>4</th>\n",
       "      <td>eel river</td>\n",
       "      <td>[Aluminum, Sedimentation/Siltation, Temperatur...</td>\n",
       "      <td>1</td>\n",
       "      <td>Natural Sources, Erosion/Siltation, Nonpoint S...</td>\n",
       "      <td>N,N</td>\n",
       "      <td>4</td>\n",
       "    </tr>\n",
       "  </tbody>\n",
       "</table>\n",
       "</div>"
      ],
      "text/plain": [
       "                                              Merger  \\\n",
       "0    bodega hu, estero americano ha, americano creek   \n",
       "1  bodega hu, estero de san antonio ha, stemple c...   \n",
       "2  cape mendocino hu, mattole river ha, mattole r...   \n",
       "3                                          eel river   \n",
       "4                                          eel river   \n",
       "\n",
       "                                      All Pollutants  Region  \\\n",
       "0                                        [Nutrients]       1   \n",
       "1                              [Nutrients, Sediment]       1   \n",
       "2      [Sedimentation/Siltation, Temperature, water]       1   \n",
       "3  [Aluminum, Oxygen, Dissolved, Sedimentation/Si...       1   \n",
       "4  [Aluminum, Sedimentation/Siltation, Temperatur...       1   \n",
       "\n",
       "                               all_potential_sources PRIVATE_DAM  \\\n",
       "0  Dairies, Intensive Animal Feeding Operations, ...         NaN   \n",
       "1  Source Unknown, Agriculture, Erosion/Siltation...         NaN   \n",
       "2  Erosion/Siltation, Habitat Modification, Hydro...         NaN   \n",
       "3  Natural Sources, Source Unknown, Erosion/Silta...         N,N   \n",
       "4  Natural Sources, Erosion/Siltation, Nonpoint S...         N,N   \n",
       "\n",
       "   Num Pollutants  \n",
       "0               1  \n",
       "1               2  \n",
       "2               3  \n",
       "3               6  \n",
       "4               4  "
      ]
     },
     "execution_count": 32,
     "metadata": {},
     "output_type": "execute_result"
    }
   ],
   "source": [
    "df.head()"
   ]
  },
  {
   "cell_type": "markdown",
   "metadata": {},
   "source": [
    "# PLOTTING TIME\n",
    "\n",
    "\n",
    "\n",
    "## Final Steps Before Analysis:\n",
    "\n",
    "1. We need to input dam data to impaired df when we are iterating through\n"
   ]
  },
  {
   "cell_type": "markdown",
   "metadata": {},
   "source": [
    "## Bar Chart of #dammed vs. #undammed"
   ]
  },
  {
   "cell_type": "code",
   "execution_count": 126,
   "metadata": {},
   "outputs": [],
   "source": [
    "df_dammed = df[df['PRIVATE_DAM'].notnull()]\n",
    "df_not_dammed = df.loc[df['PRIVATE_DAM'].isnull()]"
   ]
  },
  {
   "cell_type": "code",
   "execution_count": 129,
   "metadata": {},
   "outputs": [
    {
     "data": {
      "text/plain": [
       "<BarContainer object of 2 artists>"
      ]
     },
     "execution_count": 129,
     "metadata": {},
     "output_type": "execute_result"
    },
    {
     "data": {
      "image/png": "[encoded data removed]",
      "text/plain": [
       "<Figure size 432x288 with 1 Axes>"
      ]
     },
     "metadata": {
      "needs_background": "light"
     },
     "output_type": "display_data"
    }
   ],
   "source": [
    "fig, ax = plt.subplots()\n",
    "\n",
    "ax.set_title('Number of Impaired Rivers')\n",
    "plt.bar(['Undammed', 'Dammed'], [len(df_dammed), len(df_not_dammed)])"
   ]
  },
  {
   "cell_type": "code",
   "execution_count": null,
   "metadata": {},
   "outputs": [],
   "source": []
  },
  {
   "cell_type": "markdown",
   "metadata": {},
   "source": [
    "Let's make a histogram for # of pollutants in dammed and undammed rivers:"
   ]
  },
  {
   "cell_type": "code",
   "execution_count": 130,
   "metadata": {},
   "outputs": [
    {
     "data": {
      "text/plain": [
       "array([<AxesSubplot:title={'center':'Num Pollutants'}>], dtype=object)"
      ]
     },
     "execution_count": 130,
     "metadata": {},
     "output_type": "execute_result"
    },
    {
     "data": {
      "image/png": "[encoded data removed]",
      "text/plain": [
       "<Figure size 432x288 with 1 Axes>"
      ]
     },
     "metadata": {
      "needs_background": "light"
     },
     "output_type": "display_data"
    }
   ],
   "source": [
    "df_dammed.index = np.arange(0, len(df_dammed))\n",
    "df_not_dammed.index = np.arange(0, len(df_not_dammed))\n",
    "\n",
    "fig, ax = plt.subplots()\n",
    "#df_dammed.hist('Num Pollutants', ax=ax, bins=20, bottom=0.1, alpha=.5, color='black')\n",
    "df_not_dammed.hist('Num Pollutants', ax=ax, bins=20, bottom=0.1, alpha=.5)"
   ]
  },
  {
   "cell_type": "code",
   "execution_count": 134,
   "metadata": {},
   "outputs": [
    {
     "data": {
      "text/plain": [
       "array([<AxesSubplot:title={'center':'Num Pollutants'}>], dtype=object)"
      ]
     },
     "execution_count": 134,
     "metadata": {},
     "output_type": "execute_result"
    },
    {
     "data": {
      "image/png": "[encoded data removed]",
      "text/plain": [
       "<Figure size 432x288 with 1 Axes>"
      ]
     },
     "metadata": {
      "needs_background": "light"
     },
     "output_type": "display_data"
    }
   ],
   "source": [
    "fig, ax = plt.subplots()\n",
    "df_dammed.hist('Num Pollutants',ax=ax, bins=20, bottom=0.1, alpha=.5, color='black')"
   ]
  },
  {
   "cell_type": "markdown",
   "metadata": {},
   "source": [
    "Now we should plot individual pollutants on the x-axis, and a stacked bar chart on top!\n",
    "\n",
    "1: make a list(maybe dictionary?) of all pollutants\n",
    "\n",
    "2: "
   ]
  },
  {
   "cell_type": "markdown",
   "metadata": {},
   "source": [
    "A/B Test: Dammed Rivers have more pollutants than non-dammed rivers:\n",
    "ho: Dammed rivers and un_dammed rivers have the same average number of pollutants\n",
    "ha: dammed rivers have more pollutants than undammed rivers\n",
    "\n"
   ]
  },
  {
   "cell_type": "code",
   "execution_count": 132,
   "metadata": {},
   "outputs": [
    {
     "ename": "SyntaxError",
     "evalue": "invalid syntax (<ipython-input-132-32d63199a870>, line 1)",
     "output_type": "error",
     "traceback": [
      "\u001b[0;36m  File \u001b[0;32m\"<ipython-input-132-32d63199a870>\"\u001b[0;36m, line \u001b[0;32m1\u001b[0m\n\u001b[0;31m    A/B Test:\u001b[0m\n\u001b[0m        ^\u001b[0m\n\u001b[0;31mSyntaxError\u001b[0m\u001b[0;31m:\u001b[0m invalid syntax\n"
     ]
    }
   ],
   "source": [
    "A/B Test:\n",
    "    ho: dammed rivers and undammed rivers have the same distribution of impairments\n",
    "    ha: they have a different distribution of impairments"
   ]
  },
  {
   "cell_type": "code",
   "execution_count": 322,
   "metadata": {},
   "outputs": [
    {
     "data": {
      "text/plain": [
       "334"
      ]
     },
     "execution_count": 322,
     "metadata": {},
     "output_type": "execute_result"
    }
   ],
   "source": []
  },
  {
   "cell_type": "code",
   "execution_count": 54,
   "metadata": {},
   "outputs": [
    {
     "data": {
      "text/plain": [
       "3.3502994011976046"
      ]
     },
     "execution_count": 54,
     "metadata": {},
     "output_type": "execute_result"
    }
   ],
   "source": [
    "#df_dammed:\n",
    "n = df_dammed['Num Pollutants'].count()   \n",
    "p = sum([x for x in df_dammed['Num Pollutants']])/n\n",
    "p\n",
    "#binomial = stats.binom(n=3100, p=0.80)"
   ]
  },
  {
   "cell_type": "code",
   "execution_count": 55,
   "metadata": {},
   "outputs": [],
   "source": [
    "def bootstrap_sample_means(data, n_bootstrap_samples=10000):\n",
    "    bootstrap_sample_means = []\n",
    "    for i in range(n_bootstrap_samples):\n",
    "        bootstrap_sample = np.random.choice(data, size=300, replace=True)  ##changed from size=len(data)\n",
    "        bootstrap_sample_means.append(np.mean(bootstrap_sample))\n",
    "    return bootstrap_sample_means"
   ]
  },
  {
   "cell_type": "code",
   "execution_count": 56,
   "metadata": {},
   "outputs": [
    {
     "data": {
      "image/png": "[encoded data removed]",
      "text/plain": [
       "<Figure size 720x288 with 1 Axes>"
      ]
     },
     "metadata": {
      "needs_background": "light"
     },
     "output_type": "display_data"
    }
   ],
   "source": [
    "dammed_means = bootstrap_sample_means(df_dammed['Num Pollutants'])\n",
    "\n",
    "\n",
    "fig, ax = plt.subplots(1, figsize=(10, 4))\n",
    "_ = ax.hist(df_dammed['Num Pollutants'], bins=25, density=True, color=\"black\", alpha=0.4,\n",
    "            label=\"Sample Data\")\n",
    "_ = ax.hist(dammed_means, bins=25, density=True, color=\"red\", alpha=0.75,\n",
    "            label=\"Bootstrap Sample Means\")\n",
    "ax.legend()\n",
    "_ = ax.set_title(\"Bootstrap Sample Means Dammed Rivers (10000 samples)\")"
   ]
  },
  {
   "cell_type": "markdown",
   "metadata": {},
   "source": [
    "# Need to normalize based on sample size!"
   ]
  },
  {
   "cell_type": "code",
   "execution_count": 57,
   "metadata": {},
   "outputs": [
    {
     "data": {
      "image/png": "[encoded data removed]",
      "text/plain": [
       "<Figure size 720x288 with 1 Axes>"
      ]
     },
     "metadata": {
      "needs_background": "light"
     },
     "output_type": "display_data"
    }
   ],
   "source": [
    "## dammed means vs undammed means\n",
    "\n",
    "dammed_means = bootstrap_sample_means(df_dammed['Num Pollutants'])\n",
    "undammed_means = bootstrap_sample_means(df_not_dammed['Num Pollutants'])\n",
    "\n",
    "\n",
    "fig, ax = plt.subplots(1, figsize=(10, 4))\n",
    "_ = ax.hist(dammed_means, bins=20, density=True, color=\"blue\", alpha=0.4,\n",
    "            label=\"Dammed Rivers\")\n",
    "_ = ax.hist(undammed_means, bins=20, density=True, color=\"red\", alpha=0.75,\n",
    "            label=\"Undammed Rivers\")\n",
    "ax.legend()\n",
    "_ = ax.set_title(\"Mean number of Pollutants in Dammed and Undammed Rivers (10000 samples)\")"
   ]
  },
  {
   "cell_type": "code",
   "execution_count": null,
   "metadata": {},
   "outputs": [],
   "source": []
  },
  {
   "cell_type": "code",
   "execution_count": null,
   "metadata": {},
   "outputs": [],
   "source": []
  },
  {
   "cell_type": "markdown",
   "metadata": {},
   "source": [
    "# Plot stacked bar graph"
   ]
  },
  {
   "cell_type": "code",
   "execution_count": null,
   "metadata": {
    "scrolled": false
   },
   "outputs": [],
   "source": [
    "n = 19\n",
    "# \n",
    "\n",
    "\n"
   ]
  },
  {
   "cell_type": "code",
   "execution_count": null,
   "metadata": {},
   "outputs": [],
   "source": [
    "keys = dammed_most_potent.keys()\n",
    "values = dammed_most_potent.values()\n",
    "\n",
    "fig, ax = plt.subplots(figsize=(16,5))\n",
    "plt.bar(keys, values)\n",
    "\n",
    "\n",
    "\n",
    "N = 5\n",
    "menMeans = (20, 35, 30, 35, 27)\n",
    "womenMeans = (25, 32, 34, 20, 25)\n",
    "menStd = (2, 3, 4, 1, 2)\n",
    "womenStd = (3, 5, 2, 3, 3)\n",
    "ind = np.arange(N)    # the x locations for the groups\n",
    "width = 0.35       # the width of the bars: can also be len(x) sequence\n",
    "\n",
    "p1 = plt.bar(ind, menMeans, width, yerr=menStd)\n",
    "p2 = plt.bar(ind, womenMeans, width,\n",
    "             bottom=menMeans, yerr=womenStd)\n",
    "\n",
    "plt.ylabel('Scores')\n",
    "plt.title('Scores by group and gender')\n",
    "plt.xticks(ind, ('G1', 'G2', 'G3', 'G4', 'G5'))\n",
    "plt.yticks(np.arange(0, 81, 10))\n",
    "plt.legend((p1[0], p2[0]), ('Men', 'Women'))\n",
    "\n",
    "plt.show()"
   ]
  },
  {
   "cell_type": "markdown",
   "metadata": {},
   "source": []
  },
  {
   "cell_type": "code",
   "execution_count": null,
   "metadata": {},
   "outputs": [],
   "source": []
  },
  {
   "cell_type": "code",
   "execution_count": null,
   "metadata": {},
   "outputs": [],
   "source": []
  },
  {
   "cell_type": "code",
   "execution_count": null,
   "metadata": {},
   "outputs": [],
   "source": []
  },
  {
   "cell_type": "markdown",
   "metadata": {},
   "source": []
  },
  {
   "cell_type": "code",
   "execution_count": null,
   "metadata": {},
   "outputs": [],
   "source": []
  },
  {
   "cell_type": "code",
   "execution_count": null,
   "metadata": {},
   "outputs": [],
   "source": []
  },
  {
   "cell_type": "code",
   "execution_count": null,
   "metadata": {},
   "outputs": [],
   "source": []
  },
  {
   "cell_type": "code",
   "execution_count": null,
   "metadata": {},
   "outputs": [],
   "source": []
  },
  {
   "cell_type": "code",
   "execution_count": null,
   "metadata": {},
   "outputs": [],
   "source": []
  },
  {
   "cell_type": "code",
   "execution_count": 46,
   "metadata": {},
   "outputs": [
    {
     "data": {
      "text/html": [
       "<div>\n",
       "<style scoped>\n",
       "    .dataframe tbody tr th:only-of-type {\n",
       "        vertical-align: middle;\n",
       "    }\n",
       "\n",
       "    .dataframe tbody tr th {\n",
       "        vertical-align: top;\n",
       "    }\n",
       "\n",
       "    .dataframe thead th {\n",
       "        text-align: right;\n",
       "    }\n",
       "</style>\n",
       "<table border=\"1\" class=\"dataframe\">\n",
       "  <thead>\n",
       "    <tr style=\"text-align: right;\">\n",
       "      <th></th>\n",
       "      <th>Merger</th>\n",
       "      <th>All Pollutants</th>\n",
       "      <th>Region</th>\n",
       "      <th>all_potential_sources</th>\n",
       "      <th>PRIVATE_DAM</th>\n",
       "      <th>Num Pollutants</th>\n",
       "    </tr>\n",
       "  </thead>\n",
       "  <tbody>\n",
       "    <tr>\n",
       "      <th>3</th>\n",
       "      <td>eel river</td>\n",
       "      <td>[Aluminum, Oxygen, Dissolved, Sedimentation/Si...</td>\n",
       "      <td>1</td>\n",
       "      <td>Natural Sources, Source Unknown, Erosion/Silta...</td>\n",
       "      <td>N,N</td>\n",
       "      <td>6</td>\n",
       "    </tr>\n",
       "    <tr>\n",
       "      <th>4</th>\n",
       "      <td>eel river</td>\n",
       "      <td>[Aluminum, Sedimentation/Siltation, Temperatur...</td>\n",
       "      <td>1</td>\n",
       "      <td>Natural Sources, Erosion/Siltation, Nonpoint S...</td>\n",
       "      <td>N,N</td>\n",
       "      <td>4</td>\n",
       "    </tr>\n",
       "    <tr>\n",
       "      <th>5</th>\n",
       "      <td>eel river</td>\n",
       "      <td>[Temperature, water]</td>\n",
       "      <td>1</td>\n",
       "      <td>Nonpoint Source, Removal of Riparian Vegetation</td>\n",
       "      <td>N,N</td>\n",
       "      <td>2</td>\n",
       "    </tr>\n",
       "    <tr>\n",
       "      <th>6</th>\n",
       "      <td>eel river</td>\n",
       "      <td>[Aluminum, Sedimentation/Siltation, Temperatur...</td>\n",
       "      <td>1</td>\n",
       "      <td>Natural Sources, Construction/Land Development...</td>\n",
       "      <td>N,N</td>\n",
       "      <td>4</td>\n",
       "    </tr>\n",
       "    <tr>\n",
       "      <th>7</th>\n",
       "      <td>eel river</td>\n",
       "      <td>[Sedimentation/Siltation, Temperature, water]</td>\n",
       "      <td>1</td>\n",
       "      <td>Erosion/Siltation, Logging Road Construction/M...</td>\n",
       "      <td>N,N</td>\n",
       "      <td>3</td>\n",
       "    </tr>\n",
       "  </tbody>\n",
       "</table>\n",
       "</div>"
      ],
      "text/plain": [
       "      Merger                                     All Pollutants  Region  \\\n",
       "3  eel river  [Aluminum, Oxygen, Dissolved, Sedimentation/Si...       1   \n",
       "4  eel river  [Aluminum, Sedimentation/Siltation, Temperatur...       1   \n",
       "5  eel river                               [Temperature, water]       1   \n",
       "6  eel river  [Aluminum, Sedimentation/Siltation, Temperatur...       1   \n",
       "7  eel river      [Sedimentation/Siltation, Temperature, water]       1   \n",
       "\n",
       "                               all_potential_sources PRIVATE_DAM  \\\n",
       "3  Natural Sources, Source Unknown, Erosion/Silta...         N,N   \n",
       "4  Natural Sources, Erosion/Siltation, Nonpoint S...         N,N   \n",
       "5    Nonpoint Source, Removal of Riparian Vegetation         N,N   \n",
       "6  Natural Sources, Construction/Land Development...         N,N   \n",
       "7  Erosion/Siltation, Logging Road Construction/M...         N,N   \n",
       "\n",
       "   Num Pollutants  \n",
       "3               6  \n",
       "4               4  \n",
       "5               2  \n",
       "6               4  \n",
       "7               3  "
      ]
     },
     "execution_count": 46,
     "metadata": {},
     "output_type": "execute_result"
    }
   ],
   "source": [
    "df_dammed.head()"
   ]
  },
  {
   "cell_type": "code",
   "execution_count": 205,
   "metadata": {},
   "outputs": [
    {
     "name": "stdout",
     "output_type": "stream",
     "text": [
      "Aluminum 5\n",
      "Oxygen 10\n",
      "Dissolved 13\n",
      "Sedimentation/Siltation 60\n",
      "Temperature 41\n",
      "water 41\n",
      "Nutrients 19\n",
      "Organic Enrichment/Low Dissolved Oxygen 7\n",
      "Cyanobacteria hepatotoxic microcystins 3\n",
      "Sediment 2\n",
      "Turbidity 11\n",
      "Indicator Bacteria 13\n",
      "Specific Conductivity 1\n",
      "Mercury 55\n",
      "Nitrogen 13\n",
      "Phosphorus 9\n",
      "Diazinon 48\n",
      "Trash 29\n",
      "Pathogens 18\n",
      "Toxicity 24\n",
      "Coliform Bacteria 20\n",
      "Sediment Toxicity 17\n",
      "Chlorophyll-a 2\n",
      "Fecal Coliform 37\n",
      "Nitrate 10\n",
      "Sodium 11\n",
      "Escherichia coli (E. coli) 35\n",
      "Unknown Toxicity 55\n",
      "Ammonia (Unionized) 4\n",
      "Low Dissolved Oxygen 13\n",
      "pH 31\n",
      "Boron 14\n",
      "Chloride 19\n",
      "Electrical Conductivity 14\n",
      "Metals 5\n",
      "Chlorpyrifos 43\n",
      "Total Dissolved Solids 30\n",
      "Chlordane 8\n",
      "DDD (Dichlorodiphenyldichloro ethane) 1\n",
      "Dieldrin 13\n",
      "Enterococcus 5\n",
      "PCBs (Polychlorinated biphenyls) 13\n",
      "Pesticides 3\n",
      "Toxaphene 7\n",
      "Nitrite 2\n",
      "Benthic-Macroinvertebrate Bioassessments 5\n",
      "Ammonia 17\n",
      "ChemA (tissue) 9\n",
      "Chlordane (tissue) 4\n",
      "Copper 21\n",
      "DDT (Dichlorodiphenyltrichloro ethane) 15\n",
      "DDT (tissue & sediment) 3\n",
      "Endosulfan (tissue) 6\n",
      "PCBs (Polychlorinated biphenyls) (tissue) 5\n",
      "Toxaphene (tissue & sediment) 8\n",
      "Nitrate and Nitrite 4\n",
      "Chlordane (tissue & sediment) 2\n",
      "Chlorpyrifos (tissue) 2\n",
      "Dieldrin (tissue) 3\n",
      "Endosulfan (tissue & sediment) 2\n",
      "Nitrate as Nitrate (NO3) 3\n",
      "Selenium 21\n",
      "DDT (sediment) 1\n",
      "Sulfates 15\n",
      "Organophosphorus Pesticides 1\n",
      "DDT (tissue) 7\n",
      "Lindane/gamma- Hexachlorocyclohexane (gamma-HCH) (tissue) 1\n",
      "Lead 11\n",
      "Total 2\n",
      "Algae 2\n",
      "Invasive Species 6\n",
      "Scum/Foam-unnatural 3\n",
      "Cadmium 4\n",
      "Cyanide 2\n",
      "Nutrients (Algae) 6\n",
      "Zinc 7\n",
      "Oil 2\n",
      "Fish Barriers (Fish Passage) 3\n",
      "Toxaphene (tissue) 1\n",
      "Dioxin 1\n",
      "Nickel 2\n",
      "Iron 7\n",
      "Specific Conductance 1\n",
      "Bis(2ethylhexyl)phthalate (DEHP) 1\n",
      "Pumping 2\n",
      "Water Diversion 2\n",
      "pH (low) 1\n",
      "Manganese 8\n",
      "pH (high) 2\n",
      "Pyrethroids 3\n",
      "Dimethoate 2\n",
      "Group A Pesticides 10\n",
      "Simazine 2\n",
      "DDE (Dichlorodiphenyldichloro ethylene) 5\n",
      "Salinity 6\n",
      "Molybdenum 1\n",
      "cis-permethrin 1\n",
      "Prometryn 1\n",
      "Arsenic 2\n",
      "alpha.-BHC (Benzenehexachloride or alpha-HCH) 1\n",
      "Diuron 2\n",
      "Aldicarb 1\n",
      "Acid Mine Drainage 2\n",
      "Total Nitrogen as N 5\n",
      "Fluoride 2\n",
      "Chemical oxygen demand (COD) 1\n",
      "Total Suspended Solids (TSS) 1\n",
      "Salinity/TDS/Chlorides 1\n",
      "Phosphate 1\n",
      "Pentachlorophenol (PCP) 2\n",
      "Ammonia as Nitrogen 1\n",
      "Benthic Community Effects 1\n"
     ]
    },
    {
     "data": {
      "text/plain": [
       "15"
      ]
     },
     "execution_count": 205,
     "metadata": {},
     "output_type": "execute_result"
    }
   ],
   "source": [
    "dammed_pollutant_dict = {}\n",
    "for pol in df_dammed['All Pollutants']:\n",
    "    for pollutant in pol:\n",
    "        if pollutant in dammed_pollutant_dict:\n",
    "            dammed_pollutant_dict[pollutant] += 1\n",
    "        else:\n",
    "            dammed_pollutant_dict[pollutant] = 1\n",
    "for k, v in dammed_pollutant_dict.items():\n",
    "    print(k, v)\n",
    "dammed_most_potent = {k:v for (k,v) in dammed_pollutant_dict.items() if v > 20}\n",
    "len(dammed_most_potent)"
   ]
  },
  {
   "cell_type": "code",
   "execution_count": 194,
   "metadata": {},
   "outputs": [
    {
     "data": {
      "text/plain": [
       "334"
      ]
     },
     "execution_count": 194,
     "metadata": {},
     "output_type": "execute_result"
    }
   ],
   "source": [
    "df_dammed['All Pollutants'][3]\n",
    "len(df_dammed)"
   ]
  },
  {
   "cell_type": "code",
   "execution_count": 207,
   "metadata": {},
   "outputs": [
    {
     "name": "stdout",
     "output_type": "stream",
     "text": [
      "16\n"
     ]
    },
    {
     "data": {
      "text/plain": [
       "15"
      ]
     },
     "execution_count": 207,
     "metadata": {},
     "output_type": "execute_result"
    }
   ],
   "source": [
    "undammed_pollutant_dict = {}\n",
    "for pol in df_not_dammed['All Pollutants']:\n",
    "    for pollutant in pol:\n",
    "        if pollutant in undammed_pollutant_dict:\n",
    "            undammed_pollutant_dict[pollutant] += 1\n",
    "        else:\n",
    "            undammed_pollutant_dict[pollutant] = 1\n",
    "\n",
    "        \n",
    "            \n",
    "\n",
    "#twentyfive most potent\n",
    "undammed_most_potent = {k:v for (k,v) in undammed_pollutant_dict.items() if v > 28}\n",
    "\n",
    "len(undammed_most_potent)\n",
    "\n",
    "# Agricultural = ['Diazinon', 'Pyrethroids', 'Nitrate', \n",
    "#                 'Chlorpyrifos', 'DDT (Dichlorodiphenyltrichloro ethane)',\n",
    "#                'Dieldrin', 'Nitrogen', 'Total Nitrogen as N']\n",
    "# Metals = ['Copper', 'Zinc', 'Lead', 'Iron']"
   ]
  },
  {
   "cell_type": "code",
   "execution_count": 214,
   "metadata": {},
   "outputs": [
    {
     "name": "stdout",
     "output_type": "stream",
     "text": [
      "16\n",
      "55 55\n"
     ]
    },
    {
     "data": {
      "text/plain": [
       "0.012470771628994544"
      ]
     },
     "execution_count": 214,
     "metadata": {},
     "output_type": "execute_result"
    }
   ],
   "source": [
    "print(undammed_pollutant_dict['Mercury'])\n",
    "print(dammed_pollutant_dict['Mercury'], dammed_pollutant_dict['Unknown Toxicity'])\n",
    "\n",
    "sum = 0\n",
    "for k, v in undammed_pollutant_dict.items():\n",
    "    sum += v\n",
    "16/sum"
   ]
  },
  {
   "cell_type": "code",
   "execution_count": 196,
   "metadata": {},
   "outputs": [
    {
     "data": {
      "text/plain": [
       "<BarContainer object of 15 artists>"
      ]
     },
     "execution_count": 196,
     "metadata": {},
     "output_type": "execute_result"
    },
    {
     "data": {
      "image/png": "[encoded data removed]",
      "text/plain": [
       "<Figure size 1800x360 with 1 Axes>"
      ]
     },
     "metadata": {
      "needs_background": "light"
     },
     "output_type": "display_data"
    }
   ],
   "source": [
    "d_keys = dammed_most_potent.keys()\n",
    "d_values = dammed_most_potent.values()\n",
    "\n",
    "fig, ax = plt.subplots(figsize=(25,5))\n",
    "plt.bar(keys, values)"
   ]
  },
  {
   "cell_type": "code",
   "execution_count": 197,
   "metadata": {},
   "outputs": [
    {
     "data": {
      "text/plain": [
       "<BarContainer object of 15 artists>"
      ]
     },
     "execution_count": 197,
     "metadata": {},
     "output_type": "execute_result"
    },
    {
     "data": {
      "image/png": "[encoded data removed]",
      "text/plain": [
       "<Figure size 1800x360 with 1 Axes>"
      ]
     },
     "metadata": {
      "needs_background": "light"
     },
     "output_type": "display_data"
    }
   ],
   "source": [
    "u_keys = undammed_most_potent.keys()\n",
    "u_values = undammed_most_potent.values()\n",
    "\n",
    "fig, ax = plt.subplots(figsize=(25,5))\n",
    "plt.bar(u_keys, u_values)"
   ]
  },
  {
   "cell_type": "markdown",
   "metadata": {},
   "source": [
    "## let's go through pollutants and classify them as 'direct human addition' or 'change of environmental condition'"
   ]
  },
  {
   "cell_type": "code",
   "execution_count": 198,
   "metadata": {},
   "outputs": [
    {
     "name": "stdout",
     "output_type": "stream",
     "text": [
      "Sedimentation/Siltation 46\n",
      "Diazinon 55\n",
      "Pathogens 35\n",
      "Selenium 33\n",
      "Low Dissolved Oxygen 43\n",
      "Fecal Coliform 78\n",
      "Nitrate 38\n",
      "Sediment Toxicity 35\n",
      "Unknown Toxicity 49\n",
      "Chlorpyrifos 49\n",
      "Escherichia coli (E. coli) 65\n",
      "Chloride 30\n",
      "pH 45\n",
      "Turbidity 32\n",
      "Copper 29\n",
      "662\n"
     ]
    }
   ],
   "source": [
    "sum=0\n",
    "for k, v in undammed_most_potent.items():\n",
    "    sum += v\n",
    "    print(k, v)\n",
    "print(sum)"
   ]
  },
  {
   "cell_type": "markdown",
   "metadata": {},
   "source": [
    "## Classifying top 15 pollutants as either 'Yes' or 'No' if they are TMDL solvable"
   ]
  },
  {
   "cell_type": "code",
   "execution_count": 199,
   "metadata": {},
   "outputs": [],
   "source": [
    "he = {}\n",
    "he['Diazinon'] = 'Yes'\n",
    "he['Sedimentation/Siltation'] = 'No'\n",
    "he['Pathogens'] = 'Yes'\n",
    "he['Low Dissolved Oxygen'] = 'No'\n",
    "he['Fecal Coliform'] = 'Yes'\n",
    "he['Nitrate'] = 'Yes'\n",
    "he['Sediment Toxicity'] = 'No'\n",
    "he['Unknown Toxicity'] = 'No'\n",
    "he['Chlorpyrifos'] = 'Yes'\n",
    "he['Escherichia coli (E. coli)'] = 'Yes'\n",
    "he['pH'] = 'No'\n",
    "he['Chloride'] = 'Yes'\n",
    "he['Turbidity'] = 'No'\n",
    "he['Pathogens'] = 'No'\n",
    "he['Selenium'] = 'Yes'\n",
    "he['Temperature'] = 'No'\n",
    "he['Mercury'] = 'No'\n",
    "he['Copper'] = 'Yes'\n",
    "he['Total Dissolved Solids'] = 'No'\n",
    "he['Trash'] = 'Yes'\n",
    "he['Toxicity'] = 'No'\n",
    "he['water'] = 'No'\n"
   ]
  },
  {
   "cell_type": "markdown",
   "metadata": {},
   "source": [
    "### Undammed %solvable"
   ]
  },
  {
   "cell_type": "code",
   "execution_count": 200,
   "metadata": {},
   "outputs": [
    {
     "name": "stdout",
     "output_type": "stream",
     "text": [
      "662\n",
      "377 285\n"
     ]
    }
   ],
   "source": [
    "sum=0\n",
    "undammed_solvable = 0\n",
    "undammed_unsolvable = 0\n",
    "for k, v in undammed_most_potent.items():\n",
    "    if he[k] == 'Yes':\n",
    "        undammed_solvable += v\n",
    "    else:\n",
    "        undammed_unsolvable += v\n",
    "    sum += v\n",
    "#    print(k, v)\n",
    "print(sum)\n",
    "print(undammed_solvable, undammed_unsolvable)"
   ]
  },
  {
   "cell_type": "markdown",
   "metadata": {},
   "source": [
    "### Dammed %unsolvable"
   ]
  },
  {
   "cell_type": "code",
   "execution_count": 201,
   "metadata": {},
   "outputs": [],
   "source": [
    "def solvability(most_potent_dict, he):\n",
    "    sum=0\n",
    "    solvable = 0\n",
    "    unsolvable = 0\n",
    "    for k, v in most_potent_dict.items():\n",
    "        if he[k] == 'Yes':\n",
    "            solvable += v\n",
    "        else:\n",
    "            unsolvable += v\n",
    "        sum += v\n",
    "    return [solvable, unsolvable]\n"
   ]
  },
  {
   "cell_type": "markdown",
   "metadata": {},
   "source": [
    "### solvable vs. unsolvable pie chart"
   ]
  },
  {
   "cell_type": "code",
   "execution_count": 202,
   "metadata": {},
   "outputs": [
    {
     "data": {
      "image/png": "[encoded data removed]",
      "text/plain": [
       "<Figure size 432x288 with 1 Axes>"
      ]
     },
     "metadata": {},
     "output_type": "display_data"
    }
   ],
   "source": [
    "# Pie chart, where the slices will be ordered and plotted counter-clockwise:\n",
    "labels = ['Solvable with TMDLs', 'Not Feasibly Solved with TMDLs']\n",
    "solvable = solvability(undammed_most_potent, he)\n",
    "explode = (0, 0.1)  # only \"explode\" the 2nd slice (i.e. 'Hogs')\n",
    "\n",
    "fig1, ax1 = plt.subplots()\n",
    "ax1.pie(solvable, explode=explode, labels=labels, autopct='%1.1f%%',\n",
    "        shadow=True, startangle=90)\n",
    "ax1.axis('equal')  # Equal aspect ratio ensures that pie is drawn as a circle.\n",
    "ax1.set_title('TMDL Feasibility for Undammed Rivers')\n",
    "plt.show()"
   ]
  },
  {
   "cell_type": "code",
   "execution_count": 203,
   "metadata": {},
   "outputs": [
    {
     "data": {
      "image/png": "[encoded data removed]",
      "text/plain": [
       "<Figure size 432x288 with 1 Axes>"
      ]
     },
     "metadata": {},
     "output_type": "display_data"
    }
   ],
   "source": [
    "labels = ['Solvable with TMDLs', 'Not Feasibly Solved with TMDLs']\n",
    "solvable = solvability(dammed_most_potent, he)\n",
    "explode = (0, 0.1)  # only \"explode\" the 2nd slice (i.e. 'Hogs')\n",
    "\n",
    "fig1, ax1 = plt.subplots()\n",
    "ax1.pie(solvable, explode=explode, labels=labels, autopct='%1.1f%%',\n",
    "        shadow=True, startangle=90)\n",
    "ax1.axis('equal')  # Equal aspect ratio ensures that pie is drawn as a circle.\n",
    "ax1.set_title('TMDL Feasibility for Dammed Rivers')\n",
    "plt.show()"
   ]
  },
  {
   "cell_type": "code",
   "execution_count": null,
   "metadata": {},
   "outputs": [],
   "source": []
  },
  {
   "cell_type": "code",
   "execution_count": null,
   "metadata": {},
   "outputs": [],
   "source": []
  },
  {
   "cell_type": "code",
   "execution_count": null,
   "metadata": {},
   "outputs": [],
   "source": []
  },
  {
   "cell_type": "code",
   "execution_count": 150,
   "metadata": {},
   "outputs": [
    {
     "name": "stdout",
     "output_type": "stream",
     "text": [
      "Sedimentation/Siltation 60\n",
      "Temperature 41\n",
      "water 41\n",
      "Mercury 55\n",
      "Diazinon 48\n",
      "Trash 29\n",
      "Toxicity 24\n",
      "Fecal Coliform 37\n",
      "Escherichia coli (E. coli) 35\n",
      "Unknown Toxicity 55\n",
      "pH 31\n",
      "Chlorpyrifos 43\n",
      "Total Dissolved Solids 30\n",
      "Copper 21\n",
      "Selenium 21\n",
      "571\n"
     ]
    }
   ],
   "source": [
    "sum_d=0\n",
    "for k, v in dammed_most_potent.items():\n",
    "    sum_d += v\n",
    "    print(k, v)\n",
    "print(sum_d)"
   ]
  },
  {
   "cell_type": "code",
   "execution_count": 142,
   "metadata": {},
   "outputs": [],
   "source": []
  },
  {
   "cell_type": "code",
   "execution_count": 143,
   "metadata": {},
   "outputs": [
    {
     "data": {
      "text/plain": [
       "{'Diazinon': 'Yes',\n",
       " 'Sedimentation/Siltation': 'Location dependent',\n",
       " 'Pathogens': 'No',\n",
       " 'Low Dissolved Oxygen': 'No',\n",
       " 'Fecal Coliform': 'Yes',\n",
       " 'Nitrate': 'Yes',\n",
       " 'Sediment Toxicity': 'No',\n",
       " 'Unknown Toxicity': 'No',\n",
       " 'Chlorpyrifos': 'Yes',\n",
       " 'Escherichia coli': 'Yes',\n",
       " 'pH': 'No',\n",
       " 'Chloride': 'Yes',\n",
       " 'Turbidity': 'No',\n",
       " 'Selenium': 'Yes',\n",
       " 'Temperature': 'No',\n",
       " 'Mercury': 'No',\n",
       " 'Copper': 'Yes',\n",
       " 'Total Dissolved Solids': 'No',\n",
       " 'Trash': 'Yes',\n",
       " 'Toxicity': 'No'}"
      ]
     },
     "execution_count": 143,
     "metadata": {},
     "output_type": "execute_result"
    }
   ],
   "source": [
    "he"
   ]
  },
  {
   "cell_type": "markdown",
   "metadata": {},
   "source": [
    "Run an A/B test to see whether there is a difference in the makeup of 'TMDL Treatable' vs. 'Environmental' for dammed and undammed!\n",
    "\n",
    "Ho: Both undammed and dammed have same proportion of TMDL treatable to environmental impairements\n",
    "Ha: dammed and undammed have a different proportion of TMDL to Environmental impairments\n",
    "\n"
   ]
  },
  {
   "cell_type": "code",
   "execution_count": null,
   "metadata": {},
   "outputs": [],
   "source": []
  },
  {
   "cell_type": "code",
   "execution_count": 145,
   "metadata": {},
   "outputs": [
    {
     "data": {
      "text/html": [
       "<div>\n",
       "<style scoped>\n",
       "    .dataframe tbody tr th:only-of-type {\n",
       "        vertical-align: middle;\n",
       "    }\n",
       "\n",
       "    .dataframe tbody tr th {\n",
       "        vertical-align: top;\n",
       "    }\n",
       "\n",
       "    .dataframe thead th {\n",
       "        text-align: right;\n",
       "    }\n",
       "</style>\n",
       "<table border=\"1\" class=\"dataframe\">\n",
       "  <thead>\n",
       "    <tr style=\"text-align: right;\">\n",
       "      <th></th>\n",
       "      <th>Merger</th>\n",
       "      <th>All Pollutants</th>\n",
       "      <th>Region</th>\n",
       "      <th>all_potential_sources</th>\n",
       "      <th>PRIVATE_DAM</th>\n",
       "      <th>Num Pollutants</th>\n",
       "    </tr>\n",
       "  </thead>\n",
       "  <tbody>\n",
       "    <tr>\n",
       "      <th>0</th>\n",
       "      <td>eel river</td>\n",
       "      <td>[Aluminum, Oxygen, Dissolved, Sedimentation/Si...</td>\n",
       "      <td>1</td>\n",
       "      <td>Natural Sources, Source Unknown, Erosion/Silta...</td>\n",
       "      <td>N,N</td>\n",
       "      <td>6</td>\n",
       "    </tr>\n",
       "    <tr>\n",
       "      <th>1</th>\n",
       "      <td>eel river</td>\n",
       "      <td>[Aluminum, Sedimentation/Siltation, Temperatur...</td>\n",
       "      <td>1</td>\n",
       "      <td>Natural Sources, Erosion/Siltation, Nonpoint S...</td>\n",
       "      <td>N,N</td>\n",
       "      <td>4</td>\n",
       "    </tr>\n",
       "    <tr>\n",
       "      <th>2</th>\n",
       "      <td>eel river</td>\n",
       "      <td>[Temperature, water]</td>\n",
       "      <td>1</td>\n",
       "      <td>Nonpoint Source, Removal of Riparian Vegetation</td>\n",
       "      <td>N,N</td>\n",
       "      <td>2</td>\n",
       "    </tr>\n",
       "    <tr>\n",
       "      <th>3</th>\n",
       "      <td>eel river</td>\n",
       "      <td>[Aluminum, Sedimentation/Siltation, Temperatur...</td>\n",
       "      <td>1</td>\n",
       "      <td>Natural Sources, Construction/Land Development...</td>\n",
       "      <td>N,N</td>\n",
       "      <td>4</td>\n",
       "    </tr>\n",
       "    <tr>\n",
       "      <th>4</th>\n",
       "      <td>eel river</td>\n",
       "      <td>[Sedimentation/Siltation, Temperature, water]</td>\n",
       "      <td>1</td>\n",
       "      <td>Erosion/Siltation, Logging Road Construction/M...</td>\n",
       "      <td>N,N</td>\n",
       "      <td>3</td>\n",
       "    </tr>\n",
       "  </tbody>\n",
       "</table>\n",
       "</div>"
      ],
      "text/plain": [
       "      Merger                                     All Pollutants  Region  \\\n",
       "0  eel river  [Aluminum, Oxygen, Dissolved, Sedimentation/Si...       1   \n",
       "1  eel river  [Aluminum, Sedimentation/Siltation, Temperatur...       1   \n",
       "2  eel river                               [Temperature, water]       1   \n",
       "3  eel river  [Aluminum, Sedimentation/Siltation, Temperatur...       1   \n",
       "4  eel river      [Sedimentation/Siltation, Temperature, water]       1   \n",
       "\n",
       "                               all_potential_sources PRIVATE_DAM  \\\n",
       "0  Natural Sources, Source Unknown, Erosion/Silta...         N,N   \n",
       "1  Natural Sources, Erosion/Siltation, Nonpoint S...         N,N   \n",
       "2    Nonpoint Source, Removal of Riparian Vegetation         N,N   \n",
       "3  Natural Sources, Construction/Land Development...         N,N   \n",
       "4  Erosion/Siltation, Logging Road Construction/M...         N,N   \n",
       "\n",
       "   Num Pollutants  \n",
       "0               6  \n",
       "1               4  \n",
       "2               2  \n",
       "3               4  \n",
       "4               3  "
      ]
     },
     "execution_count": 145,
     "metadata": {},
     "output_type": "execute_result"
    }
   ],
   "source": [
    "df_dammed.head()"
   ]
  },
  {
   "cell_type": "code",
   "execution_count": 148,
   "metadata": {},
   "outputs": [
    {
     "data": {
      "text/plain": [
       "1283"
      ]
     },
     "execution_count": 148,
     "metadata": {},
     "output_type": "execute_result"
    }
   ],
   "source": [
    "df_not_dammed['Num Pollutants'].sum()"
   ]
  },
  {
   "cell_type": "code",
   "execution_count": 149,
   "metadata": {},
   "outputs": [
    {
     "data": {
      "text/plain": [
       "1119"
      ]
     },
     "execution_count": 149,
     "metadata": {},
     "output_type": "execute_result"
    }
   ],
   "source": [
    "df_dammed['Num Pollutants'].sum()"
   ]
  },
  {
   "cell_type": "code",
   "execution_count": 152,
   "metadata": {},
   "outputs": [
    {
     "data": {
      "text/plain": [
       "1283"
      ]
     },
     "execution_count": 152,
     "metadata": {},
     "output_type": "execute_result"
    }
   ],
   "source": [
    "df_not_dammed['Num Pollutants'].sum()"
   ]
  },
  {
   "cell_type": "code",
   "execution_count": null,
   "metadata": {},
   "outputs": [],
   "source": []
  }
 ],
 "metadata": {
  "kernelspec": {
   "display_name": "Python 3",
   "language": "python",
   "name": "python3"
  },
  "language_info": {
   "codemirror_mode": {
    "name": "ipython",
    "version": 3
   },
   "file_extension": ".py",
   "mimetype": "text/x-python",
   "name": "python",
   "nbconvert_exporter": "python",
   "pygments_lexer": "ipython3",
   "version": "3.8.2"
  }
 },
 "nbformat": 4,
 "nbformat_minor": 4
}
